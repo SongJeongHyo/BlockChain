{
 "cells": [
  {
   "cell_type": "markdown",
   "id": "f6302db8",
   "metadata": {},
   "source": [
    "### Hello.sol 코딩"
   ]
  },
  {
   "cell_type": "code",
   "execution_count": 2,
   "id": "f5af9683",
   "metadata": {},
   "outputs": [
    {
     "name": "stdout",
     "output_type": "stream",
     "text": [
      "Overwriting C:\\Users\\swjdg\\Code\\201810777\\src/Hello.sol\n"
     ]
    }
   ],
   "source": [
    "%%writefile C:\\Users\\swjdg\\Code\\201810777\\src/Hello.sol\n",
    "pragma solidity ^0.6.0;\n",
    "contract Hello {\n",
    "    function sayHello() pure public returns(string memory) {\n",
    "        return \"Hello, Snowman\";\n",
    "    }\n",
    "}"
   ]
  },
  {
   "cell_type": "markdown",
   "id": "80e2dd6c",
   "metadata": {},
   "source": [
    "### solc로 컴파일"
   ]
  },
  {
   "cell_type": "code",
   "execution_count": 3,
   "id": "7f5009df",
   "metadata": {
    "scrolled": true
   },
   "outputs": [
    {
     "name": "stdout",
     "output_type": "stream",
     "text": [
      "\n",
      "======= C:/Users/swjdg/Code/201810777/src/Hello.sol:Hello =======\n",
      "Gas estimation:\n",
      "construction:\n",
      "   105 + 57200 = 57305\n",
      "external:\n",
      "   sayHello():\tinfinite\n",
      "Binary:\n",
      "608060405234801561001057600080fd5b5061011e806100206000396000f3fe6080604052348015600f57600080fd5b506004361060285760003560e01c8063ef5fb05b14602d575b600080fd5b603360ab565b6040518080602001828103825283818151815260200191508051906020019080838360005b8381101560715780820151818401526020810190506058565b50505050905090810190601f168015609d5780820380516001836020036101000a031916815260200191505b509250505060405180910390f35b60606040518060400160405280600e81526020017f48656c6c6f2c20536e6f776d616e00000000000000000000000000000000000081525090509056fea26469706673582212206bbd346597431f2766edeadfab65465d9ca7f72a4a66c247835e0bc8ac9d5aa464736f6c63430006040033\n",
      "Contract JSON ABI\n",
      "[{\"inputs\":[],\"name\":\"sayHello\",\"outputs\":[{\"internalType\":\"string\",\"name\":\"\",\"type\":\"string\"}],\"stateMutability\":\"pure\",\"type\":\"function\"}]\n"
     ]
    }
   ],
   "source": [
    "!solc --abi --bin --gas C:\\Users\\swjdg\\Code\\201810777\\src/Hello.sol"
   ]
  },
  {
   "cell_type": "markdown",
   "id": "624d4756",
   "metadata": {},
   "source": [
    "### web3.js를 사용하여 node로 프로그램해서 배포"
   ]
  },
  {
   "cell_type": "markdown",
   "id": "03664e2c",
   "metadata": {},
   "source": [
    "### ganache address 얻기"
   ]
  },
  {
   "cell_type": "code",
   "execution_count": 4,
   "id": "5ddf4b25",
   "metadata": {},
   "outputs": [
    {
     "name": "stdout",
     "output_type": "stream",
     "text": [
      "Overwriting C:\\Users\\swjdg\\Code\\201810777\\src/getMyAddr.js\n"
     ]
    }
   ],
   "source": [
    "%%writefile C:\\Users\\swjdg\\Code\\201810777\\src/getMyAddr.js\n",
    "var Web3=require('web3');\n",
    "var web3 = new Web3(new Web3.providers.HttpProvider(\"http://localhost:8345\"))\n",
    "var myAddr0;\n",
    "web3.eth.getAccounts().then(console.log);"
   ]
  },
  {
   "cell_type": "code",
   "execution_count": 5,
   "id": "0304c558",
   "metadata": {},
   "outputs": [
    {
     "name": "stdout",
     "output_type": "stream",
     "text": [
      "[\n",
      "  '0xdABC571D9d9CA8b61E150CfD34FE6494C8BE2a95',\n",
      "  '0xfA567DE346050df346479cCb552452d4B3474B9b',\n",
      "  '0xE6551EC70ff0815E7692843d2A0CAc4F533E9DAf',\n",
      "  '0x6fa82A698583FC9cee1cF1dFa56e50C590ED2a33',\n",
      "  '0x9a12d0f87C9123794405C279421b2ee9Df5F4e5e',\n",
      "  '0x7a20fC2Cce82aFf47c30F5B1f3b836A340Ddb069',\n",
      "  '0x90F68E534B2A70cf2c031c7A0eBb06Aca465322F',\n",
      "  '0xeeaC61fCACD5B8028B9F0e7dF99842cd4b2959e1',\n",
      "  '0x4A2A094edE6F389FFA6CC2B8e490DdDa969c28d9',\n",
      "  '0x3c6a29bc1568876da67E14C3c130612BfA4418C9'\n",
      "]\n"
     ]
    }
   ],
   "source": [
    "!node C:\\Users\\swjdg\\Code\\201810777\\src/getMyAddr.js"
   ]
  },
  {
   "cell_type": "markdown",
   "id": "0bda6a6a",
   "metadata": {},
   "source": [
    "### 배포를 deploy() 함수로 요청하고 transactionHash를 얻음"
   ]
  },
  {
   "cell_type": "code",
   "execution_count": 10,
   "id": "d4e75f17",
   "metadata": {},
   "outputs": [
    {
     "name": "stdout",
     "output_type": "stream",
     "text": [
      "Overwriting C:\\Users\\swjdg\\Code\\201810777\\src/HelloDeploy.js\n"
     ]
    }
   ],
   "source": [
    "%%writefile C:\\Users\\swjdg\\Code\\201810777\\src/HelloDeploy.js\n",
    "var Web3=require('web3');\n",
    "var web3 = new Web3(new Web3.providers.HttpProvider(\"http://localhost:8345\"));\n",
    "var shelloContract = new web3.eth.Contract([{\"inputs\":[],\"name\":\"sayHello\",\"outputs\":[{\"internalType\":\"string\",\"name\":\"\",\"type\":\"string\"}],\"stateMutability\":\"pure\",\"type\":\"function\"}]);\n",
    "shelloContract\n",
    "    .deploy({\n",
    "            data: '0x608060405234801561001057600080fd5b5061011e806100206000396000f3fe6080604052348015600f57600080fd5b506004361060285760003560e01c8063ef5fb05b14602d575b600080fd5b603360ab565b6040518080602001828103825283818151815260200191508051906020019080838360005b8381101560715780820151818401526020810190506058565b50505050905090810190601f168015609d5780820380516001836020036101000a031916815260200191505b509250505060405180910390f35b60606040518060400160405280600e81526020017f48656c6c6f2c20536e6f776d616e00000000000000000000000000000000000081525090509056fea26469706673582212206bbd346597431f2766edeadfab65465d9ca7f72a4a66c247835e0bc8ac9d5aa464736f6c63430006040033', \n",
    "    })\n",
    "    .send({\n",
    "     from: \"0xdABC571D9d9CA8b61E150CfD34FE6494C8BE2a95\",\n",
    "     gas: '4700000'\n",
    "    }, function (error, transactionHash){ \n",
    "            console.log(error, transactionHash); \n",
    "    })\n",
    "    .then(function(newContractInstance){\n",
    "        console.log(newContractInstance.options.address)\n",
    "    });"
   ]
  },
  {
   "cell_type": "code",
   "execution_count": 11,
   "id": "ee0b79a8",
   "metadata": {
    "scrolled": true
   },
   "outputs": [
    {
     "name": "stdout",
     "output_type": "stream",
     "text": [
      "null 0x8acb2d27ca8dd8bece94a266c7346db3170002e588704ed7de52b170e6492179\n",
      "0x9558592B4080a7A521E6D62AC9F50E1fA2Ba2b1E\n"
     ]
    }
   ],
   "source": [
    "!node C:\\Users\\swjdg\\Code\\201810777\\src/HelloDeploy.js"
   ]
  },
  {
   "cell_type": "markdown",
   "id": "e0969c5e",
   "metadata": {},
   "source": [
    "###  node로 sayHello() 출력"
   ]
  },
  {
   "cell_type": "code",
   "execution_count": 8,
   "id": "61b66c7f",
   "metadata": {},
   "outputs": [
    {
     "name": "stdout",
     "output_type": "stream",
     "text": [
      "Overwriting C:\\Users\\swjdg\\Code\\201810777\\src/HelloUse.js\n"
     ]
    }
   ],
   "source": [
    "%%writefile C:\\Users\\swjdg\\Code\\201810777\\src/HelloUse.js\n",
    "var Web3=require('web3');\n",
    "var web3 = new Web3(new Web3.providers.HttpProvider(\"http://localhost:8345\"));\n",
    "var shelloContract = new web3.eth.Contract([{\"constant\":true,\"inputs\":[],\"name\":\"sayHello\",\"outputs\":[{\"name\":\"\",\"type\":\"string\"}],\"payable\":false,\"stateMutability\":\"pure\",\"type\":\"function\"}],\n",
    "                                      \"0x983Dd7263CbcC7Ca5D084eA052127af0bfAb31ff\");\n",
    "shelloContract.methods.sayHello().call().then(function(str) {console.log(str);});"
   ]
  },
  {
   "cell_type": "code",
   "execution_count": 9,
   "id": "5eedd08e",
   "metadata": {},
   "outputs": [
    {
     "name": "stderr",
     "output_type": "stream",
     "text": [
      "C:\\Users\\swjdg\\Code\\201810777\\node_modules\\web3-eth-abi\\lib\\index.js:297\n",
      "        throw new Error('Returned values aren\\'t valid, did it run Out of Gas? ' +\n",
      "              ^\n",
      "\n",
      "Error: Returned values aren't valid, did it run Out of Gas? You might also see this error if you are not using the correct ABI for the contract you are retrieving data from, requesting data from a block number that does not exist, or querying a node which is not fully synced.\n",
      "    at ABICoder.decodeParametersWith (C:\\Users\\swjdg\\Code\\201810777\\node_modules\\web3-eth-abi\\lib\\index.js:297:15)\n",
      "    at ABICoder.decodeParameters (C:\\Users\\swjdg\\Code\\201810777\\node_modules\\web3-eth-abi\\lib\\index.js:284:17)\n",
      "    at Contract._decodeMethodReturn (C:\\Users\\swjdg\\Code\\201810777\\node_modules\\web3-eth-contract\\lib\\index.js:493:22)\n",
      "    at Method.outputFormatter (C:\\Users\\swjdg\\Code\\201810777\\node_modules\\web3-eth-contract\\lib\\index.js:800:42)\n",
      "    at Method.formatOutput (C:\\Users\\swjdg\\Code\\201810777\\node_modules\\web3-core-method\\lib\\index.js:148:54)\n",
      "    at sendTxCallback (C:\\Users\\swjdg\\Code\\201810777\\node_modules\\web3-core-method\\lib\\index.js:531:33)\n",
      "    at C:\\Users\\swjdg\\Code\\201810777\\node_modules\\web3-core-requestmanager\\lib\\index.js:305:9\n",
      "    at XMLHttpRequest.request.onreadystatechange (C:\\Users\\swjdg\\Code\\201810777\\node_modules\\web3-providers-http\\lib\\index.js:98:13)\n",
      "    at XMLHttpRequestEventTarget.dispatchEvent (C:\\Users\\swjdg\\Code\\201810777\\node_modules\\xhr2-cookies\\dist\\xml-http-request-event-target.js:34:22)\n",
      "    at XMLHttpRequest._setReadyState (C:\\Users\\swjdg\\Code\\201810777\\node_modules\\xhr2-cookies\\dist\\xml-http-request.js:208:14)\n",
      "    at XMLHttpRequest._onHttpResponseEnd (C:\\Users\\swjdg\\Code\\201810777\\node_modules\\xhr2-cookies\\dist\\xml-http-request.js:318:14)\n",
      "    at IncomingMessage.<anonymous> (C:\\Users\\swjdg\\Code\\201810777\\node_modules\\xhr2-cookies\\dist\\xml-http-request.js:289:61)\n",
      "    at IncomingMessage.emit (node:events:538:35)\n",
      "    at endReadableNT (node:internal/streams/readable:1345:12)\n",
      "    at processTicksAndRejections (node:internal/process/task_queues:83:21)\n"
     ]
    }
   ],
   "source": [
    "!node C:\\Users\\swjdg\\Code\\201810777\\src/HelloUse.js"
   ]
  },
  {
   "cell_type": "code",
   "execution_count": null,
   "id": "759d48b0",
   "metadata": {},
   "outputs": [],
   "source": []
  }
 ],
 "metadata": {
  "kernelspec": {
   "display_name": "Python 3 (ipykernel)",
   "language": "python",
   "name": "python3"
  },
  "language_info": {
   "codemirror_mode": {
    "name": "ipython",
    "version": 3
   },
   "file_extension": ".py",
   "mimetype": "text/x-python",
   "name": "python",
   "nbconvert_exporter": "python",
   "pygments_lexer": "ipython3",
   "version": "3.7.0"
  }
 },
 "nbformat": 4,
 "nbformat_minor": 5
}
