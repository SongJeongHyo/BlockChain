{
 "cells": [
  {
   "cell_type": "markdown",
   "id": "25344076",
   "metadata": {},
   "source": [
    "## 컨트랙 개발"
   ]
  },
  {
   "cell_type": "code",
   "execution_count": 5,
   "id": "98a8fb29",
   "metadata": {},
   "outputs": [
    {
     "name": "stdout",
     "output_type": "stream",
     "text": [
      "Overwriting BankV2.sol\n"
     ]
    }
   ],
   "source": [
    "%%writefile BankV2.sol\n",
    "//SPDX-License-Identifier: UNLICENSED\n",
    "pragma solidity ^0.8.0;\n",
    "\n",
    "contract BankV2 {\n",
    "    address owner; //from 0.8.0 no need to declare the address as payable explicitly\n",
    "    uint balance; \n",
    "    constructor() payable { // warning: from 0.7? remove public -> constructor() payable\n",
    "        owner = msg.sender;\n",
    "        balance = 0;\n",
    "    }\n",
    "    event Sent(address from, address to, uint amount );  // to learn next week\n",
    "    //function send(address payable _receiver, uint _amount) public payable {\n",
    "    function forwardTo(address payable _receiver) public payable {\n",
    "        //balance -= msg.value;\n",
    "        require(msg.sender == owner);\n",
    "        _receiver.transfer(msg.value);\n",
    "        emit Sent(msg.sender, _receiver, msg.value);  // event\n",
    "    }\n",
    "    function getBalance() public view returns(uint, uint) {\n",
    "        return (balance, address(this).balance);\n",
    "    }\n",
    "    function deposit(uint amount) public payable {\n",
    "        require(msg.value == amount);\n",
    "        balance += amount;\n",
    "    }\n",
    "    function widthdrawAll() public {\n",
    "        balance -= address(this).balance;\n",
    "        require(msg.sender == owner);\n",
    "        //owner.transfer(address(this).balance); //error pyable\n",
    "        //payable(msg.sender).transfer(address(this).balance); //ok\n",
    "        payable(owner).transfer(address(this).balance); //to use payable from 0.8.0 (but error with 0.5)\n",
    "    }\n",
    "}"
   ]
  },
  {
   "cell_type": "markdown",
   "id": "36ae8042",
   "metadata": {},
   "source": [
    "## 컴파일"
   ]
  },
  {
   "cell_type": "code",
   "execution_count": 6,
   "id": "69ef7170",
   "metadata": {},
   "outputs": [],
   "source": [
    "!solc-windows.exe --optimize --combined-json abi,bin BankV2.sol > BankV2.json"
   ]
  },
  {
   "cell_type": "markdown",
   "id": "57e134ad",
   "metadata": {},
   "source": [
    "## 배포"
   ]
  },
  {
   "cell_type": "code",
   "execution_count": 7,
   "id": "ef53963a",
   "metadata": {},
   "outputs": [
    {
     "name": "stdout",
     "output_type": "stream",
     "text": [
      "Writing BankV2Deploy.js\n"
     ]
    }
   ],
   "source": [
    "%%writefile BankV2Deploy.js\n",
    "var Web3=require('web3');\n",
    "var web3;\n",
    "if (typeof web3 !== 'undefined') {\n",
    "    web3 = new Web3(web3.currentProvider);\n",
    "} else {\n",
    "    //web3 = new Web3(new Web3.providers.WebsocketProvider('ws://localhost:8345'));\n",
    "    web3 = new Web3(new Web3.providers.HttpProvider('http://localhost:8345'));\n",
    "}\n",
    "var _abiArray=[{\"constant\":true,\"inputs\":[],\"name\":\"getBalance\",\"outputs\":[{\"name\":\"\",\"type\":\"uint256\"},{\"name\":\"\",\"type\":\"uint256\"}],\"payable\":false,\"stateMutability\":\"view\",\"type\":\"function\"},{\"constant\":false,\"inputs\":[{\"name\":\"_receiver\",\"type\":\"address\"}],\"name\":\"forwardTo\",\"outputs\":[],\"payable\":true,\"stateMutability\":\"payable\",\"type\":\"function\"},{\"constant\":false,\"inputs\":[],\"name\":\"widthdrawAll\",\"outputs\":[],\"payable\":false,\"stateMutability\":\"nonpayable\",\"type\":\"function\"},{\"constant\":false,\"inputs\":[{\"name\":\"amount\",\"type\":\"uint256\"}],\"name\":\"deposit\",\"outputs\":[],\"payable\":true,\"stateMutability\":\"payable\",\"type\":\"function\"},{\"inputs\":[],\"payable\":false,\"stateMutability\":\"nonpayable\",\"type\":\"constructor\"},{\"anonymous\":false,\"inputs\":[{\"indexed\":false,\"name\":\"from\",\"type\":\"address\"},{\"indexed\":false,\"name\":\"to\",\"type\":\"address\"},{\"indexed\":false,\"name\":\"amount\",\"type\":\"uint256\"}],\"name\":\"Sent\",\"type\":\"event\"}];\n",
    "var _bin=\"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\";\n",
    "\n",
    "//unlock the account with a password provided\n",
    "//web3.personal.unlockAccount(web3.eth.accounts[0],'password');\n",
    "async function deploy() {\n",
    "    const accounts = await web3.eth.getAccounts();\n",
    "    console.log(\"Deploying the contract from \" + accounts[0]);\n",
    "    var deployed = await new web3.eth.Contract(_abiArray)\n",
    "        .deploy({data: \"0x\"+_bin})\n",
    "        .send({from: accounts[0], gas: 1000000, gasPrice: '1000000000'}, function(err, transactionHash) {\n",
    "                if(!err) console.log(\"hash: \" + transactionHash); \n",
    "        })\n",
    "        //.then(function(newContractInstance) {\n",
    "        //    console.log(newContractInstance.options.address)\n",
    "        //});\n",
    "    console.log(\"---> The contract deployed to: \" + deployed.options.address)\n",
    "}\n",
    "deploy()\n",
    "\n",
    "//old way - without async, await\n",
    "//var _contract = new web3.eth.Contract(_abiArray);\n",
    "//unlock the account with a password provided\n",
    "//web3.personal.unlockAccount(web3.eth.accounts[0],'password');\n",
    "//_contract\n",
    "//    .deploy({data:\"0x\"+_bin})\n",
    "//    .send({from:\"0x02e3d1B8b7C63bDB77CdF8B50e4394EAa640E59d\",gas:1000000})\n",
    "//    .then(function(newContractInstance){\n",
    "//        console.log(newContractInstance.options.address) // instance with the new contract address\n",
    "//    });"
   ]
  },
  {
   "cell_type": "code",
   "execution_count": 8,
   "id": "c2986e6e",
   "metadata": {},
   "outputs": [
    {
     "name": "stdout",
     "output_type": "stream",
     "text": [
      "Deploying the contract from 0xe41D6E1ca60ea1150976B7bF0F670b224F4B82D6\n",
      "hash: 0xf8fe98ec13198340ed1bb69a2547435c7398f77ba7285cd595c1dd61aa1d10fb\n",
      "---> The contract deployed to: 0x5947De2F5add80fFdbB3a9D72Cc7CeC84a42D7A8\n"
     ]
    }
   ],
   "source": [
    "!node BankV2Deploy.js"
   ]
  },
  {
   "cell_type": "markdown",
   "id": "61f3df1e",
   "metadata": {},
   "source": [
    "## 사용"
   ]
  },
  {
   "cell_type": "code",
   "execution_count": 24,
   "id": "811f0185",
   "metadata": {},
   "outputs": [
    {
     "name": "stdout",
     "output_type": "stream",
     "text": [
      "Overwriting BankV2NoEventUse.js\n"
     ]
    }
   ],
   "source": [
    "%%writefile BankV2NoEventUse.js\n",
    "var Web3=require('web3');\n",
    "var web3 = new Web3(new Web3.providers.HttpProvider(\"http://localhost:8345\"));\n",
    "//var web3 = new Web3(new Web3.providers.WebsocketProvider('ws://localhost:8345'));\n",
    "var _abiArray=[{\"constant\":true,\"inputs\":[],\"name\":\"getBalance\",\"outputs\":[{\"name\":\"\",\"type\":\"uint256\"},{\"name\":\"\",\"type\":\"uint256\"}],\"payable\":false,\"stateMutability\":\"view\",\"type\":\"function\"},{\"constant\":false,\"inputs\":[{\"name\":\"_receiver\",\"type\":\"address\"}],\"name\":\"forwardTo\",\"outputs\":[],\"payable\":true,\"stateMutability\":\"payable\",\"type\":\"function\"},{\"constant\":false,\"inputs\":[],\"name\":\"widthdrawAll\",\"outputs\":[],\"payable\":false,\"stateMutability\":\"nonpayable\",\"type\":\"function\"},{\"constant\":false,\"inputs\":[{\"name\":\"amount\",\"type\":\"uint256\"}],\"name\":\"deposit\",\"outputs\":[],\"payable\":true,\"stateMutability\":\"payable\",\"type\":\"function\"},{\"inputs\":[],\"payable\":false,\"stateMutability\":\"nonpayable\",\"type\":\"constructor\"},{\"anonymous\":false,\"inputs\":[{\"indexed\":false,\"name\":\"from\",\"type\":\"address\"},{\"indexed\":false,\"name\":\"to\",\"type\":\"address\"},{\"indexed\":false,\"name\":\"amount\",\"type\":\"uint256\"}],\"name\":\"Sent\",\"type\":\"event\"}];\n",
    "var bank = new web3.eth.Contract(_abiArray, '0x5947De2F5add80fFdbB3a9D72Cc7CeC84a42D7A8');\n",
    "var event = bank.events.Sent({fromBlock: 0}, function (error, result) {\n",
    "    if (!error) {\n",
    "        console.log(\"Event fired: \" + JSON.stringify(result.returnValues));\n",
    "    }\n",
    "});\n",
    "\n",
    "async function doIt() {\n",
    "    const accounts = await web3.eth.getAccounts();\n",
    "    console.log(\"Account0: \" + accounts[0]);\n",
    "    const balance0Before = await web3.eth.getBalance(accounts[0]);\n",
    "    console.log(\"Balance0 before: \" + balance0Before);\n",
    "    const balance1Before = await web3.eth.getBalance(accounts[1]);\n",
    "    console.log(\"Balance1 before: \" + balance1Before);\n",
    "\n",
    "    bank.methods.getBalance().call().then(function(bal) {\n",
    "        console.log(\"Contract bal before deposit: \" + bal[0] + \" this.bal:\" + bal[1]);\n",
    "    });\n",
    "    await bank.methods.deposit(1111).send({from: accounts[0],gas:80000,value:1111});\n",
    "    bank.methods.getBalance().call().then(function(bal) {\n",
    "        console.log(\"Contract bal after deposit: \" + bal[0] + \" this.bal:\" + bal[1]);\n",
    "    });\n",
    "    const forward = await bank.methods.forwardTo(accounts[1]).send({from: accounts[0],gas:100000,value:555});\n",
    "    //const forward = await _test.methods.forwardTo().send({from: accounts[0], gas: 364124, gasPrice: '1000000000'})\n",
    "        //.then(function(value) {console.log(\"---> myFunction called \" + JSON.stringify(forward.events.Sent.returnValues));});\n",
    "  \n",
    "    console.log(\"---> forwardTo called \" + JSON.stringify(forward.events.Sent.returnValues));\n",
    "    bank.methods.getBalance().call().then(function(bal) {\n",
    "        console.log(\"Contract balance after forwardTo: \" + bal[0] + \" this.bal:\" + bal[1]);\n",
    "    });\n",
    "    const balance0After = await web3.eth.getBalance(accounts[0]);\n",
    "    console.log(\"Balance0 after: \" + balance0After);\n",
    "    console.log(\"Balance0 diff: \" + (balance0After - balance0Before));\n",
    "    const balance1After = await web3.eth.getBalance(accounts[1]);\n",
    "    console.log(\"Balance1 after: \" + balance1After);\n",
    "    console.log(\"Balance1 diff: \" + (balance1After - balance1Before));\n",
    "\n",
    "    const withdraw = await bank.methods.widthdrawAll().send({from: accounts[0],gas:100000});\n",
    "    bank.methods.getBalance().call().then(function(bal) {\n",
    "        console.log(\"Contract balance after withdrawAll: \" + bal[0] + \" this.bal:\" + bal[1]);\n",
    "    });\n",
    "    const balance0AfterWithdrawAll = await web3.eth.getBalance(accounts[0]);\n",
    "    console.log(\"Balance0 after withdrawAll: \" + balance0AfterWithdrawAll);\n",
    "    console.log(\"Balance0 diff after withdrawAll: \" + (balance0After - balance0AfterWithdrawAll));\n",
    "}\n",
    "doIt()"
   ]
  },
  {
   "cell_type": "code",
   "execution_count": 25,
   "id": "63408fb8",
   "metadata": {},
   "outputs": [
    {
     "name": "stdout",
     "output_type": "stream",
     "text": [
      "Account0: 0xe41D6E1ca60ea1150976B7bF0F670b224F4B82D6\n",
      "Balance0 before: 999998734463398102390\n",
      "Balance1 before: 1000000000000000000000\n",
      "Contract bal before deposit: 0 this.bal:0\n",
      "Contract bal after deposit: 1111 this.bal:1111\n",
      "---> forwardTo called {\"0\":\"0xe41D6E1ca60ea1150976B7bF0F670b224F4B82D6\",\"1\":\"0x06C8F90EE75c43da21a9b55D6afd2b4fe821e790\",\"2\":\"555\",\"from\":\"0xe41D6E1ca60ea1150976B7bF0F670b224F4B82D6\",\"to\":\"0x06C8F90EE75c43da21a9b55D6afd2b4fe821e790\",\"amount\":\"555\"}\n",
      "Balance0 after: 999998499924701803393\n",
      "Balance0 diff: -234538696310784\n",
      "Contract balance after forwardTo: 1111 this.bal:1111\n",
      "Balance1 after: 1000000000000000000555\n",
      "Balance1 diff: 0\n",
      "Balance0 after withdrawAll: 999998410860967632814\n",
      "Balance0 diff after withdrawAll: 89063734116352\n",
      "Contract balance after withdrawAll: 0 this.bal:0\n"
     ]
    }
   ],
   "source": [
    "!node BankV2NoEventUse.js"
   ]
  },
  {
   "cell_type": "code",
   "execution_count": null,
   "id": "f149aeca",
   "metadata": {},
   "outputs": [],
   "source": []
  }
 ],
 "metadata": {
  "kernelspec": {
   "display_name": "Python 3 (ipykernel)",
   "language": "python",
   "name": "python3"
  },
  "language_info": {
   "codemirror_mode": {
    "name": "ipython",
    "version": 3
   },
   "file_extension": ".py",
   "mimetype": "text/x-python",
   "name": "python",
   "nbconvert_exporter": "python",
   "pygments_lexer": "ipython3",
   "version": "3.7.0"
  }
 },
 "nbformat": 4,
 "nbformat_minor": 5
}
