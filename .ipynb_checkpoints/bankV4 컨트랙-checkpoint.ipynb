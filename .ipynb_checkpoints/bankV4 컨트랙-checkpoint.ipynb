{
 "cells": [
  {
   "cell_type": "markdown",
   "id": "bdb7b64b",
   "metadata": {},
   "source": [
    "## 실습: 은행 잔고의 mapping\n",
    "앞서 은행에서는 한 계정에서의 입금, 출금을 실행해 보았다. 여러 계정이 있는 경우, mapping을 이용해 잔고를 관리할 수 있다.\n",
    "\n",
    "mapping(address=>uint) balanceOf; 라고 선언하고 balanceOf[<address>]=amount;로 잔고를 저장할 수 있다.\n",
    "\n",
    "증액, 감액을 하려면:\n",
    "\n",
    "uint balanceToAdd=111;\n",
    "balanceOf[<address>] += balanceToAdd;\n",
    "adddress 자신의 주소를 따옴표 없이, 금액도 따옴표 없이 정수\n",
    "입출금은 기능을 어떻게 설계하느냐에 따라 금액변동에 영향을 미칠 수 있기 마련이다. 여기서는 입출금 및 계좌이체를 하면 자신의 계좌, owner 계좌 그리고 컨트랙의 계좌에 아래와 같이 변동이 있도록 해보았다."
   ]
  },
  {
   "cell_type": "markdown",
   "id": "2f453b0c",
   "metadata": {},
   "source": [
    "## 컨트랙 개발"
   ]
  },
  {
   "cell_type": "code",
   "execution_count": 1,
   "id": "b51a998d",
   "metadata": {},
   "outputs": [
    {
     "name": "stdout",
     "output_type": "stream",
     "text": [
      "Writing BankV4.sol\n"
     ]
    }
   ],
   "source": [
    "%%writefile BankV4.sol\n",
    "//SPDX-License-Identifier: GPL-3.0-or-later\n",
    "pragma solidity ^0.8.0;\n",
    "\n",
    "//check for Coin.sol (ch12) and BankV3.sol 201906\n",
    "contract BankV4 {\n",
    "    address owner;\n",
    "    mapping (address => uint) balanceOf;\n",
    "    constructor() {//constructor() public {\n",
    "        owner = msg.sender;\n",
    "    }\n",
    "    // save to individual addresses\n",
    "    function deposit(uint amount) payable public onlyOwner {\n",
    "        require(msg.value == amount);\n",
    "        balanceOf[msg.sender] += amount;\n",
    "    }\n",
    "    // forward from owner to another\n",
    "    function forwardTo(address receiver, uint amount) payable public onlyOwner {\n",
    "        require(balanceOf[msg.sender] >= amount);\n",
    "        balanceOf[msg.sender] -= amount; // Subtract from the sender\n",
    "        balanceOf[receiver] += amount;   // Add the same to the recipient\n",
    "    }\n",
    "    function withdraw(address payable receiver, uint amount) public onlyOwner {\n",
    "        require(balanceOf[receiver] >= amount && address(this).balance >= amount);\n",
    "        balanceOf[receiver] -= amount;\n",
    "        receiver.transfer(amount);\n",
    "    }\n",
    "    function getBalance() public view returns(uint, uint) {\n",
    "        return (address(this).balance, balanceOf[owner]);\n",
    "    }\n",
    "    function getBalanceOf(address addr) public view returns (uint) {\n",
    "        return balanceOf[addr];\n",
    "    }\n",
    "    modifier onlyOwner {\n",
    "        require(msg.sender == owner);\n",
    "        _;\n",
    "    }\n",
    "}"
   ]
  },
  {
   "cell_type": "markdown",
   "id": "b08f836e",
   "metadata": {},
   "source": [
    "## 컴파일"
   ]
  },
  {
   "cell_type": "code",
   "execution_count": 3,
   "id": "99d11a36",
   "metadata": {},
   "outputs": [
    {
     "name": "stderr",
     "output_type": "stream",
     "text": [
      "Compiler run successful, no output requested.\n"
     ]
    }
   ],
   "source": [
    "!solc-windows.exe BankV4.sol"
   ]
  }
 ],
 "metadata": {
  "kernelspec": {
   "display_name": "Python 3 (ipykernel)",
   "language": "python",
   "name": "python3"
  },
  "language_info": {
   "codemirror_mode": {
    "name": "ipython",
    "version": 3
   },
   "file_extension": ".py",
   "mimetype": "text/x-python",
   "name": "python",
   "nbconvert_exporter": "python",
   "pygments_lexer": "ipython3",
   "version": "3.7.0"
  }
 },
 "nbformat": 4,
 "nbformat_minor": 5
}
