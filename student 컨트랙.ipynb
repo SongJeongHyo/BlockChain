{
 "cells": [
  {
   "cell_type": "markdown",
   "id": "64c92115",
   "metadata": {},
   "source": [
    "## 문제\n",
    "컨트랙 '학생'을 구현하세요.\n",
    "\n",
    "컨트랙의 이름은 'StudentsCrud.sol'로 명명하세요.\n",
    "\n",
    "학생들을 배열로 구성하고, 다음 기능이 제공되도록 하자.\n",
    "\n",
    "* 입력: '학번', '이름', '등록여부'를 입력한다.\n",
    "\n",
    "* 검색: 조건에 해당하는 항목을 찾기 위해서는 반복문이 필수적이다.\n",
    "\n",
    "그러나 gas비용이 급증할 수 있으므로, 배열의 인덱스로 검색하도록 하자.\n",
    "\n",
    "* 삭제: 배열에서는 어떤 항목의 데이터를 지우기 위해서는 검색이 필요하다.\n",
    "\n",
    "그러나 역시 gas비용이 급증할 수 있으므로, 배열의 인덱스에 해당하는 항목을 지우기로 한다.\n",
    "\n",
    "해당 항목을 지우고 나서는, 그 항목을 제거하고 배열의 크기도 같이 줄어야 한다.\n",
    "\n",
    "\n",
    "\n",
    "함수의 시그니처는 다음과 같다.\n",
    "\n",
    "```\n",
    "\n",
    "* 입력함수 - function insert(uint n, string memory sn, bool e) public\n",
    "\n",
    "* 첫 데이터 조회 - function getFirstStudent() public view returns(uint, string memory, bool)\n",
    "\n",
    "* 검색함수 - function findBy(uint8 index) view public returns(uint, string memory, bool)\n",
    "\n",
    "* 삭제함수 - function remove(uint index) public\n",
    "\n",
    "* 배열크기 조회함수 - function getLength() view public returns(uint)\n",
    "\n",
    "* 삭제함수 - function pop() public\n",
    "\n",
    "```\n",
    "\n",
    "\n",
    "\n",
    "컨트랙을 구현하고, REMIX에서 DEPLOY한 후, 제공되는 함수버튼을 활용하여 다음 작업을 수행해보자.\n",
    "\n",
    "항목별 답안으로는 수행결과가 출력된 REMIX 단말의 로그를 붙여넣기 하면 된다.\n",
    "\n",
    "(선택적으로 노드에서 배포하고 실행해도 좋아요)\n",
    "\n",
    "(1) 아래 항목을 입력\n",
    "\n",
    "```\n",
    "\n",
    "201711111,\"kim\",false\n",
    "\n",
    "201711112, \"park\", true\n",
    "\n",
    "201711113, \"lee\", false\n",
    "\n",
    "201711114, \"lim\", false\n",
    "\n",
    "```\n",
    "\n",
    "\n",
    "\n",
    "(2) 2번째 데이터 201711112 제거\n",
    "\n",
    "\n",
    "\n",
    "(3) 배열크기 조회 (4개 항목에서 1개가 제거되었으니 3이 출력)\n",
    "\n",
    "\n",
    "\n",
    "(4) 2 번째 데이터조회를 조회한다. 20171112는 삭제되어서 출력할 수 없고, 다른 데이터 항목이 출력.\n",
    "\n",
    "\n",
    "\n",
    "(5) 첫 데이터 조회"
   ]
  },
  {
   "cell_type": "code",
   "execution_count": 2,
   "id": "5c7f9cdc",
   "metadata": {},
   "outputs": [
    {
     "name": "stdout",
     "output_type": "stream",
     "text": [
      "Writing StudentsCrud.sol\n"
     ]
    }
   ],
   "source": [
    "%%writefile StudentsCrud.sol\n",
    "//SPDX-License-Identifier: GPL-3.0-or-later\n",
    "pragma solidity ^0.8.13; //^0.5.0;\n",
    "\n",
    "contract StudentsCrud{\n",
    "\n",
    "    struct Student {\n",
    "        uint num;\n",
    "        string name;\n",
    "        bool isEnrolled;\n",
    "    }\n",
    "\n",
    "    Student[] public Students;\n",
    "\n",
    "    function insert(uint n, string memory sn, bool e) public { //입력함수 \n",
    "        Students.push(Student(n,sn,e));\n",
    "    }\n",
    "\n",
    "    function getFirstStudent() public view returns(uint getnum, string memory getname, bool getisEnrolled) { //첫 데이터 조회\n",
    "        getnum = Students[0].num;\n",
    "        getname = Students[0].name;\n",
    "        getisEnrolled = Students[0].isEnrolled;\n",
    "\n",
    "    }\n",
    "\n",
    "    function findBy(uint8 index) view public returns(uint findNum, string memory findName, bool findIsEnrolled) { //검색함수 \n",
    "        findNum =  Students[index].num;\n",
    "        findName = Students[index].name;\n",
    "        findIsEnrolled = Students[index].isEnrolled;\n",
    "    }\n",
    "\n",
    "    function remove(uint index) public{ //삭제함수 \n",
    "        for(uint i = index; i < Students.length-1; i++){\n",
    "            Students[i] = Students[i+1];\n",
    "        }\n",
    "        Students.pop();\n",
    "    }\n",
    "\n",
    "    function getLength() view public returns(uint) { //배열크기 조회함수\n",
    "        return Students.length;\n",
    "    }\n",
    "\n",
    "    function pop() public { //삭제함수\n",
    "        Students.pop();\n",
    "    }\n",
    "\n",
    "}"
   ]
  },
  {
   "cell_type": "markdown",
   "id": "fa7dc09c",
   "metadata": {},
   "source": [
    "### 위 코드 실행 후 deploy\n",
    "\n",
    "[vm]from: 0x5B3...eddC4to: StudentsCrud.(constructor)value: 0 weidata: 0x608...d0033logs: 0hash: 0xcbc...0403a\n",
    "\n",
    "status\ttrue Transaction mined and execution succeed\n",
    "\n",
    "transaction hash\t0xcbcb1ef416ed43adf5db737a87392b64d38b9ca3653e7dd2a31e3951b7b0403a\n",
    "\n",
    "from\t0x5B38Da6a701c568545dCfcB03FcB875f56beddC4\n",
    "\n",
    "to\tStudentsCrud.(constructor)\n",
    "\n",
    "gas\t936125 gas\n",
    "\n",
    "transaction cost\t814021 gas \n",
    "\n",
    "execution cost\t814021 gas "
   ]
  },
  {
   "cell_type": "markdown",
   "id": "9b3aaa39",
   "metadata": {},
   "source": [
    "## (1) 아래 항목을 입력 -> 201711114, \"lim\", false 까지 모두 insert한 후 로그를 붙여넣었습니다.\n",
    "### 밑의 로그는 201711114, \"lim\", false를 insert했을때의 로그입니다.\n",
    "\n",
    "[vm]from: 0x5B3...eddC4to: StudentsCrud.insert(uint256,string,bool) 0x62F...3599Bvalue: 0 weidata: 0xf07...00000logs: 0hash: \n",
    "0x43a...21739\n",
    "\n",
    "status\ttrue Transaction mined and execution succeed\n",
    "\n",
    "transaction hash\t0x43a171ecbae91490007fa3f7940f85558326512aa2f59a9aeecf48b81db21739\n",
    "\n",
    "from\t0x5B38Da6a701c568545dCfcB03FcB875f56beddC4\n",
    "\n",
    "to\tStudentsCrud.insert(uint256,string,bool) 0x62FF318Bee4D6d605D163Ed3325077E32803599B\n",
    "\n",
    "gas\t86629 gas\n",
    "\n",
    "transaction cost\t75329 gas \n",
    "\n",
    "execution cost\t75329 gas \n",
    "\n",
    "input\t0xf07...00000\n",
    "\n",
    "decoded input\t{\n",
    "\t\"uint256 n\": \"201711114\",\n",
    "\t\"string sn\": \"lim\",\n",
    "\t\"bool e\": false\n",
    "}\n",
    "\n",
    "decoded output\t{}\n",
    "\n",
    "logs\t[]\n",
    "\n",
    "val\t0 wei"
   ]
  },
  {
   "cell_type": "markdown",
   "id": "55e2a7ca",
   "metadata": {},
   "source": [
    "## (2) 2번째 데이터 201711112 제거"
   ]
  },
  {
   "cell_type": "markdown",
   "id": "36767b9c",
   "metadata": {},
   "source": [
    "[vm]from: 0x5B3...eddC4to: StudentsCrud.remove(uint256) 0x62F...3599Bvalue: 0 weidata: 0x4cc...00001logs: 0hash: 0xe9d...e0320\n",
    "\n",
    "status\ttrue Transaction mined and execution succeed\n",
    "\n",
    "transaction hash\t0xe9d925841846d7eed7e7da559124d4837e8df38d007f3c36675a0fdff6ce0320\n",
    "\n",
    "from\t0x5B38Da6a701c568545dCfcB03FcB875f56beddC4\n",
    "\n",
    "to\tStudentsCrud.remove(uint256) 0x62FF318Bee4D6d605D163Ed3325077E32803599B\n",
    "\n",
    "gas\t86587 gas\n",
    "\n",
    "transaction cost\t60893 gas \n",
    "\n",
    "execution cost\t60893 gas \n",
    "\n",
    "input\t0x4cc...00001\n",
    "\n",
    "decoded input\t{\n",
    "\t\"uint256 index\": \"1\"\n",
    "}\n",
    "\n",
    "decoded output\t{}\n",
    "\n",
    "logs\t[]\n",
    "\n",
    "val\t0 wei"
   ]
  },
  {
   "cell_type": "markdown",
   "id": "b3cfdce9",
   "metadata": {},
   "source": [
    "## (3) 배열크기 조회 (4개 항목에서 1개가 제거되었으니 3이 출력)"
   ]
  },
  {
   "attachments": {
    "image.png": {
     "image/png": "[encoded data removed]"
    }
   },
   "cell_type": "markdown",
   "id": "509d5e4c",
   "metadata": {},
   "source": [
    "![image.png](attachment:image.png)"
   ]
  },
  {
   "cell_type": "markdown",
   "id": "4f61c0ae",
   "metadata": {},
   "source": [
    "[call]from: 0x5B38Da6a701c568545dCfcB03FcB875f56beddC4to: StudentsCrud.getLength()data: 0xbe1...c766b\n",
    "\n",
    "from\t0x5B38Da6a701c568545dCfcB03FcB875f56beddC4\n",
    "\n",
    "to\tStudentsCrud.getLength() 0x62FF318Bee4D6d605D163Ed3325077E32803599B\n",
    "\n",
    "execution cost\t23531 gas (Cost only applies when called by a contract)\n",
    "\n",
    "input\t0xbe1...c766b\n",
    "\n",
    "decoded input\t{}\n",
    "\n",
    "decoded output\t{\n",
    "\t\"0\": \"uint256: 3\"\n",
    "}\n",
    "\n",
    "logs\t[]\n"
   ]
  },
  {
   "cell_type": "markdown",
   "id": "54d59c0e",
   "metadata": {},
   "source": [
    "## (4) 2 번째 데이터조회를 조회한다. 20171112는 삭제되어서 출력할 수 없고, 다른 데이터 항목이 출력.\n",
    "\n"
   ]
  },
  {
   "attachments": {
    "image.png": {
     "image/png": "[encoded data removed]"
    }
   },
   "cell_type": "markdown",
   "id": "f14851a0",
   "metadata": {},
   "source": [
    "![image.png](attachment:image.png)"
   ]
  },
  {
   "cell_type": "markdown",
   "id": "6b886ae8",
   "metadata": {},
   "source": [
    "CALL\n",
    "\n",
    "[call]from: 0x5B38Da6a701c568545dCfcB03FcB875f56beddC4to: StudentsCrud.findBy(uint8)data: 0xedf...00001\n",
    "\n",
    "from\t0x5B38Da6a701c568545dCfcB03FcB875f56beddC4\n",
    "\n",
    "to\tStudentsCrud.findBy(uint8) 0x62FF318Bee4D6d605D163Ed3325077E32803599B\n",
    "\n",
    "execution cost\t32055 gas (Cost only applies when called by a contract)\n",
    "\n",
    "input\t0xedf...00001\n",
    "\n",
    "decoded input\t{\n",
    "\t\"uint8 index\": 1\n",
    "}\n",
    "\n",
    "decoded output\t{\n",
    "\t\"0\": \"uint256: findNum 201711113\",\n",
    "\t\"1\": \"string: findName lee\",\n",
    "\t\"2\": \"bool: findIsEnrolled false\"\n",
    "}\n",
    "\n",
    "logs\t[]\n"
   ]
  },
  {
   "cell_type": "markdown",
   "id": "b83e8431",
   "metadata": {},
   "source": [
    "## (5) 첫 데이터 조회"
   ]
  },
  {
   "attachments": {
    "image.png": {
     "image/png": "[encoded data removed]"
    }
   },
   "cell_type": "markdown",
   "id": "52264cd2",
   "metadata": {},
   "source": [
    "![image.png](attachment:image.png)"
   ]
  },
  {
   "cell_type": "markdown",
   "id": "9dec3de3",
   "metadata": {},
   "source": [
    "CALL\n",
    "\n",
    "[call]from: 0x5B38Da6a701c568545dCfcB03FcB875f56beddC4to: StudentsCrud.getFirstStudent()data: 0xacb...e8cee\n",
    "\n",
    "from\t0x5B38Da6a701c568545dCfcB03FcB875f56beddC4\n",
    "\n",
    "to\tStudentsCrud.getFirstStudent() 0x62FF318Bee4D6d605D163Ed3325077E32803599B\n",
    "\n",
    "execution cost\t31582 gas (Cost only applies when called by a contract)\n",
    "\n",
    "input\t0xacb...e8cee\n",
    "\n",
    "decoded input\t{}\n",
    "\n",
    "decoded output\t{\n",
    "\t\"0\": \"uint256: getnum 201711111\",\n",
    "\t\"1\": \"string: getname kim\",\n",
    "\t\"2\": \"bool: getisEnrolled false\"\n",
    "}\n",
    "\n",
    "logs\t[]"
   ]
  },
  {
   "cell_type": "code",
   "execution_count": null,
   "id": "3352738d",
   "metadata": {},
   "outputs": [],
   "source": []
  }
 ],
 "metadata": {
  "kernelspec": {
   "display_name": "Python 3 (ipykernel)",
   "language": "python",
   "name": "python3"
  },
  "language_info": {
   "codemirror_mode": {
    "name": "ipython",
    "version": 3
   },
   "file_extension": ".py",
   "mimetype": "text/x-python",
   "name": "python",
   "nbconvert_exporter": "python",
   "pygments_lexer": "ipython3",
   "version": "3.7.0"
  }
 },
 "nbformat": 4,
 "nbformat_minor": 5
}
