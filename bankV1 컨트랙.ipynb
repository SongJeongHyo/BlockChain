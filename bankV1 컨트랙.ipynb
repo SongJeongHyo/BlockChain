{
 "cells": [
  {
   "cell_type": "markdown",
   "id": "b2111464",
   "metadata": {},
   "source": [
    "## 컨트랙 개발"
   ]
  },
  {
   "cell_type": "code",
   "execution_count": 1,
   "id": "1d02b4c2",
   "metadata": {},
   "outputs": [
    {
     "name": "stdout",
     "output_type": "stream",
     "text": [
      "Writing MyBank.sol\n"
     ]
    }
   ],
   "source": [
    "%%writefile MyBank.sol\n",
    "//SPDX-License-Identifier: GPL-3.0-or-later\n",
    "pragma solidity ^0.8.0;\n",
    "\n",
    "contract MyBank {\n",
    "    address owner; //address payable owner;\n",
    "    uint balance;\n",
    "    constructor() { //constructor() public {\n",
    "        owner = msg.sender;\n",
    "        balance = address(this).balance;\n",
    "    }\n",
    "    function deposit(uint amount) public payable {\n",
    "        require(msg.value == amount);\n",
    "        balance += amount;\n",
    "    }\n",
    "    function withdraw(uint amount) public payable {\n",
    "        balance -= amount;   // deduct before transfer\n",
    "        payable(owner).transfer(amount); //owner.transfer(amount);\n",
    "    }\n",
    "    function transferTo(address payable receiver, uint amount) public payable {\n",
    "        balance -= amount;   // deduct before transfer\n",
    "        receiver.transfer(amount);\n",
    "    }\n",
    "    function getBalance() public view returns (uint) {\n",
    "        return balance;\n",
    "    }\n",
    "    function getBalanceOfThis() public view returns (uint) {\n",
    "        return address(this).balance;\n",
    "    }\n",
    "    function getBalanceOfOwner() public view returns (uint) {\n",
    "        return owner.balance;\n",
    "    }\n",
    "}"
   ]
  },
  {
   "cell_type": "markdown",
   "id": "58102d9a",
   "metadata": {},
   "source": [
    "## 컴파일"
   ]
  },
  {
   "cell_type": "code",
   "execution_count": 4,
   "id": "35f04bae",
   "metadata": {},
   "outputs": [],
   "source": [
    "!solc-windows.exe --optimize --combined-json abi,bin MyBank.sol > MyBank.json"
   ]
  },
  {
   "cell_type": "markdown",
   "id": "5d0ab596",
   "metadata": {},
   "source": [
    "## 컨트랙 배포"
   ]
  },
  {
   "cell_type": "code",
   "execution_count": 19,
   "id": "087320d3",
   "metadata": {},
   "outputs": [
    {
     "name": "stdout",
     "output_type": "stream",
     "text": [
      "Overwriting MyBankDeployAbiBinFromFile.js\n"
     ]
    }
   ],
   "source": [
    "%%writefile MyBankDeployAbiBinFromFile.js\n",
    "var Web3 = require('web3');\n",
    "var _abiBinJson = require('./MyBank.json');      //importing a javascript file\n",
    "\n",
    "var web3 = new Web3(new Web3.providers.HttpProvider(\"http://localhost:8345\"));\n",
    "\n",
    "contractName=Object.keys(_abiBinJson.contracts); // reading ['MyBank.sol:MyBank']\n",
    "console.log(\"- contract name: \", contractName);\n",
    "_abi=_abiBinJson.contracts[contractName].abi;\n",
    "_abiArray=JSON.parse(JSON.stringify(_abi));\n",
    "//_abiArray=JSON.parse(_abi);      //JSON parsing needed!! //SyntaxError: Unexpected token o in JSON at position 1\n",
    "_bin=_abiBinJson.contracts[contractName].bin;\n",
    "\n",
    "//console.log(\"- ABI: \" + _abiArray);\n",
    "//console.log(\"- Bytecode: \" + _bin);\n",
    "\n",
    "async function deploy() {\n",
    "    const accounts = await web3.eth.getAccounts();\n",
    "    console.log(\"Deploying the contract from \" + accounts[0]);\n",
    "    var deployed = await new web3.eth.Contract(_abiArray)\n",
    "        .deploy({data: \"0x\"+_bin})\n",
    "        .send({from: accounts[0], gas: 404124}, function(err, transactionHash) {\n",
    "                if(!err) console.log(\"hash: \" + transactionHash); \n",
    "        })\n",
    "        //.then(function(newContractInstance){\n",
    "        //    console.log(newContractInstance)\n",
    "        //});\n",
    "    console.log(\"---> The contract deployed to: \" + deployed.options.address)\n",
    "}\n",
    "deploy()"
   ]
  },
  {
   "cell_type": "code",
   "execution_count": 14,
   "id": "36223b6e",
   "metadata": {},
   "outputs": [
    {
     "name": "stdout",
     "output_type": "stream",
     "text": [
      "- contract name:  [ 'MyBank.sol:MyBank' ]\n",
      "Deploying the contract from 0xe41D6E1ca60ea1150976B7bF0F670b224F4B82D6\n",
      "hash: 0x24823b328914d832a83879d5b8bd43bfe5c94a571d75784f01efe8ce1bc4e243\n",
      "---> The contract deployed to: 0x5b256F19eABFCa5DdbA951f9171c3a1352D60499\n"
     ]
    }
   ],
   "source": [
    "!node MyBankDeployAbiBinFromFile.js"
   ]
  },
  {
   "cell_type": "markdown",
   "id": "e3e807a5",
   "metadata": {},
   "source": [
    "## 컨트랙 사용"
   ]
  },
  {
   "cell_type": "code",
   "execution_count": 17,
   "id": "2ede0681",
   "metadata": {},
   "outputs": [
    {
     "name": "stdout",
     "output_type": "stream",
     "text": [
      "Overwriting MyBankUse.js\n"
     ]
    }
   ],
   "source": [
    "%%writefile MyBankUse.js\n",
    "var Web3=require('web3');\n",
    "var _abiBinJson = require('./MyBank.json');      //importing a javascript file\n",
    "\n",
    "var web3 = new Web3(new Web3.providers.HttpProvider(\"http://localhost:8345\"));\n",
    "contractName=Object.keys(_abiBinJson.contracts); // reading ['MyBank.sol:MyBank']\n",
    "//console.log(\"- contract name: \", contractName); //or console.log(contractName[0]);\n",
    "_abi=_abiBinJson.contracts[contractName].abi;\n",
    "_abiArray=JSON.parse(JSON.stringify(_abi));\n",
    "//_abiArray=JSON.parse(_abi);      //JSON parsing needed!!\n",
    "//_bin=_abiBinJson.contracts[contractName].bin;\n",
    "//console.log(\"- ABI: \" + _abiArray);\n",
    "//console.log(\"- Bytecode: \" + _bin);\n",
    "\n",
    "var myBank = new web3.eth.Contract(_abiArray,\"0x5b256F19eABFCa5DdbA951f9171c3a1352D60499\");\n",
    "\n",
    "async function doIt() {\n",
    "    const accounts = await web3.eth.getAccounts();\n",
    "    console.log(\"Call from: \" + accounts[0]);\n",
    "    myBank.methods.getBalance().call().then(console.log);\n",
    "    myBank.methods.deposit(1111).send({from:accounts[0],gas:80000,value:1111});\n",
    "    myBank.methods.getBalance().call().then(console.log);\n",
    "}\n",
    "\n",
    "doIt()"
   ]
  },
  {
   "cell_type": "code",
   "execution_count": 21,
   "id": "b6ea73fb",
   "metadata": {},
   "outputs": [
    {
     "name": "stdout",
     "output_type": "stream",
     "text": [
      "Call from: 0xe41D6E1ca60ea1150976B7bF0F670b224F4B82D6\n",
      "1111\n",
      "1111\n"
     ]
    }
   ],
   "source": [
    "!node MyBankUse.js"
   ]
  },
  {
   "cell_type": "code",
   "execution_count": null,
   "id": "67d145c2",
   "metadata": {},
   "outputs": [],
   "source": []
  }
 ],
 "metadata": {
  "kernelspec": {
   "display_name": "Python 3 (ipykernel)",
   "language": "python",
   "name": "python3"
  },
  "language_info": {
   "codemirror_mode": {
    "name": "ipython",
    "version": 3
   },
   "file_extension": ".py",
   "mimetype": "text/x-python",
   "name": "python",
   "nbconvert_exporter": "python",
   "pygments_lexer": "ipython3",
   "version": "3.7.0"
  }
 },
 "nbformat": 4,
 "nbformat_minor": 5
}
