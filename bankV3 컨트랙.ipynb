{
 "cells": [
  {
   "cell_type": "markdown",
   "id": "bf392c22",
   "metadata": {},
   "source": [
    "## 컨트랙 개발"
   ]
  },
  {
   "cell_type": "code",
   "execution_count": 1,
   "id": "e247fea5",
   "metadata": {},
   "outputs": [
    {
     "name": "stdout",
     "output_type": "stream",
     "text": [
      "Writing BankV3.sol\n"
     ]
    }
   ],
   "source": [
    "%%writefile BankV3.sol\n",
    "//SPDX-License-Identifier: GPL-3.0-or-later\n",
    "pragma solidity ^0.8.0; //^0.5.0;\n",
    "\n",
    "contract BankV3 {\n",
    "    address owner;\n",
    "    uint balance;\n",
    "    uint256 timeToDeposit;\n",
    "    \n",
    "    event PrintLog(string);\n",
    "    event Sent(address from, address to, uint amount );\n",
    "    constructor() { //constructor() public {\n",
    "        owner = msg.sender;\n",
    "        balance = 0;\n",
    "    }\n",
    "    fallback() external { // v0.5.0 function() external {\n",
    "        emit PrintLog(\"Fallback called\");\n",
    "    }\n",
    "    function forwardTo(address payable _receiver) public payable onlyOwner {\n",
    "        //require(msg.sender == owner);\n",
    "        _receiver.transfer(msg.value);\n",
    "        emit Sent(msg.sender, _receiver, msg.value);\n",
    "    }\n",
    "    function getBalance() public view returns(uint, uint) {\n",
    "        return (balance, address(this).balance);\n",
    "    }\n",
    "    function deposit(uint amount) public payable onlyAfter {\n",
    "        timeToDeposit = block.timestamp + 10 seconds; //timeToDeposit = now + 10 seconds;\n",
    "        require(msg.value == amount);\n",
    "        balance += amount;\n",
    "    }\n",
    "    function withdrawAll() public onlyOwner minBalance {\n",
    "        balance -= address(this).balance;\n",
    "        //require(msg.sender == owner);\n",
    "        //v0.5.0 msg.sender.transfer(address(this).balance);\n",
    "        payable(msg.sender).transfer(address(this).balance); \n",
    "    }\n",
    "    modifier onlyOwner {\n",
    "        require(msg.sender == owner);\n",
    "        _;\n",
    "    }\n",
    "    modifier onlyAfter {\n",
    "        require(block.timestamp >= timeToDeposit); //require(now >= timeToDeposit);\n",
    "        _;\n",
    "    }\n",
    "    modifier minBalance {\n",
    "        require(address(this).balance>101 wei);\n",
    "        _;\n",
    "    }\n",
    "}"
   ]
  },
  {
   "cell_type": "markdown",
   "id": "67e9ece6",
   "metadata": {},
   "source": [
    "## 컴파일"
   ]
  },
  {
   "cell_type": "code",
   "execution_count": 3,
   "id": "9dbe504b",
   "metadata": {},
   "outputs": [],
   "source": [
    "!solc-windows.exe --optimize --combined-json abi,bin BankV3.sol > BankV3.json"
   ]
  },
  {
   "cell_type": "markdown",
   "id": "5e7fdd6e",
   "metadata": {},
   "source": [
    "## 배포"
   ]
  },
  {
   "cell_type": "code",
   "execution_count": 4,
   "id": "2bd50f87",
   "metadata": {},
   "outputs": [
    {
     "name": "stdout",
     "output_type": "stream",
     "text": [
      "Writing BankV3DeployFromFile.js\n"
     ]
    }
   ],
   "source": [
    "%%writefile BankV3DeployFromFile.js\n",
    "var Web3 = require('web3');\n",
    "var _abiBinJson = require('./BankV3.json');      //importing a javascript file\n",
    "\n",
    "var web3 = new Web3(new Web3.providers.HttpProvider(\"http://localhost:8345\"));\n",
    "\n",
    "contractName=Object.keys(_abiBinJson.contracts); // reading ['src/BankV3.sol:BankV3']\n",
    "console.log(\"- contract name: \", contractName);\n",
    "_abi=_abiBinJson.contracts[contractName].abi;\n",
    "_abiArray=JSON.parse(JSON.stringify(_abi));\n",
    "//_abiArray=JSON.parse(_abi);      //JSON parsing needed!! //SyntaxError: Unexpected token o in JSON at position 1\n",
    "_bin=_abiBinJson.contracts[contractName].bin;\n",
    "\n",
    "//console.log(\"- ABI: \" + _abiArray);\n",
    "//console.log(\"- Bytecode: \" + _bin);\n",
    "\n",
    "async function deploy() {\n",
    "    const accounts = await web3.eth.getAccounts();\n",
    "    console.log(\"Deploying the contract from \" + accounts[0]);\n",
    "    var deployed = await new web3.eth.Contract(_abiArray)\n",
    "        .deploy({data: \"0x\"+_bin})\n",
    "        .send({from: accounts[0], gas: 259210}, function(err, transactionHash) {\n",
    "                if(!err) console.log(\"hash: \" + transactionHash); \n",
    "        })\n",
    "        //.then(function(newContractInstance){\n",
    "        //    console.log(newContractInstance)\n",
    "        //});\n",
    "    console.log(\"---> The contract deployed to: \" + deployed.options.address)\n",
    "}\n",
    "deploy()"
   ]
  },
  {
   "cell_type": "code",
   "execution_count": 6,
   "id": "194849f9",
   "metadata": {},
   "outputs": [
    {
     "name": "stdout",
     "output_type": "stream",
     "text": [
      "- contract name:  [ 'BankV3.sol:BankV3' ]\n",
      "Deploying the contract from 0xe41D6E1ca60ea1150976B7bF0F670b224F4B82D6\n",
      "hash: 0x83c18622a25f1fb3d3faa759fda0c4ff128584e06bfeb724a0e61833a30767ea\n",
      "---> The contract deployed to: 0xcF591E42C3184B8cbC3d76560b2Ae9B65F5CaBAe\n"
     ]
    }
   ],
   "source": [
    "!node BankV3DeployFromFile.js"
   ]
  },
  {
   "cell_type": "markdown",
   "id": "97994380",
   "metadata": {},
   "source": [
    "## 사용\n",
    "프로그램에 설정한 제약조건을 지켜서 실행헤야 한다.\n",
    "\n",
    "10초 이내 저축\n",
    "잔고 101보다 적은데 출금\n",
    "블록체인에 send()가 필요한 함수는 비동기적으로 처리하기 위해 await로 처리한다. 비동기적으로 처리하면, 예를 들어 입금 deposit()하고 getBalance()하면 잔고에 입금분만큼 반영이 되어있는 것을 알 수 있다"
   ]
  },
  {
   "cell_type": "code",
   "execution_count": 7,
   "id": "d6634dde",
   "metadata": {},
   "outputs": [
    {
     "name": "stdout",
     "output_type": "stream",
     "text": [
      "Writing BankV3Use.js\n"
     ]
    }
   ],
   "source": [
    "%%writefile BankV3Use.js\n",
    "var Web3=require('web3');\n",
    "var _abiBinJson = require('./BankV3.json');      //importing a javascript file\n",
    "\n",
    "var web3 = new Web3(new Web3.providers.HttpProvider(\"http://localhost:8345\"));\n",
    "contractName=Object.keys(_abiBinJson.contracts); // reading ['src/BankV3.sol:BankV3']\n",
    "//console.log(\"- contract name: \", contractName); //or console.log(contractName[0]);\n",
    "_abiArray=_abiBinJson.contracts[contractName].abi; //use just as read from file\n",
    "//_abiArray=JSON.parse(JSON.stringify(_abi));\n",
    "//_abiArray=JSON.parse(_abi);      //JSON parsing needed!!\n",
    "//_bin=_abiBinJson.contracts[contractName].bin;\n",
    "console.log(\"- ABI: \" + _abiArray);\n",
    "//console.log(\"- Bytecode: \" + _bin);\n",
    "var bank = new web3.eth.Contract(_abiArray,\"0xcF591E42C3184B8cbC3d76560b2Ae9B65F5CaBAe\");\n",
    "//var filter = bank.PrintLog(function (error, result) {\n",
    "//  if (!error)\n",
    "//    console.log(result);\n",
    "//});\n",
    "//console.log(bank.sendTo(0x778ea91cb0d0879c22ca20c5aea6fbf8cbeed480, 100,{from:web3.eth.accounts[0],gas:100000}));\n",
    "\n",
    "async function doIt() {\n",
    "    const accounts = await web3.eth.getAccounts();\n",
    "    console.log(\"Account: \" + accounts[0]);\n",
    "    const balanceBefore = await web3.eth.getBalance(accounts[0]);\n",
    "    console.log(\"Balance before: \" + balanceBefore);\n",
    "    bank.methods.getBalance().call().then(console.log);\n",
    "    await bank.methods.deposit(111).send({from: accounts[0], value:111});\n",
    "    bank.methods.getBalance().call().then(console.log);\n",
    "    await bank.methods.withdrawAll().send({from: accounts[0]});    //greater than 101\n",
    "    bank.methods.getBalance().call().then(console.log);\n",
    "    const balanceAfter = await web3.eth.getBalance(accounts[0]);\n",
    "    console.log(\"Balance after: \" + balanceAfter);\n",
    "    console.log(\"Balance diff: \" + (balanceBefore - balanceAfter));    \n",
    "}\n",
    "doIt()"
   ]
  },
  {
   "cell_type": "code",
   "execution_count": 9,
   "id": "a62d8173",
   "metadata": {},
   "outputs": [
    {
     "name": "stdout",
     "output_type": "stream",
     "text": [
      "- ABI: [object Object],[object Object],[object Object],[object Object],[object Object],[object Object],[object Object],[object Object]\n",
      "Account: 0xe41D6E1ca60ea1150976B7bF0F670b224F4B82D6\n",
      "Balance before: 999997673235726389846\n",
      "Result { '0': '0', '1': '0' }\n",
      "Result { '0': '111', '1': '111' }\n",
      "Balance after: 999997404032462255192\n",
      "Balance diff: 269203264110592\n",
      "Result { '0': '0', '1': '0' }\n"
     ]
    }
   ],
   "source": [
    "!node BankV3Use.js"
   ]
  },
  {
   "cell_type": "markdown",
   "id": "4d9bce31",
   "metadata": {},
   "source": [
    "결과는 비동기 함수를 일시에 실행하기 때문에 바르게 출력되지 않고 있다. node창에서 실행을 해보면 알 수 있다.\n",
    "\n",
    "deposit(100);\n",
    "withdraw() ---> 실패 (프로그램에 101 wei 이상 제약조건)\n",
    "deposit(111); value를 반드시 함수인자와 동일하게 입력해야 한다. REMIX에서 할 경우에도 마찬가지이다. Run 탭 상단의 value, Deployed Contracts 함수의 인자 두 필드에 동일한 금액을 넣어준다.\n",
    "빠르게 (프로그램에 설정해 놓은 10초 이내) deposit(111) ---> 실패\n",
    "queryBalance() --=> 211\n",
    "deposit(111); ---> 10초가 지났으면 실행. 이때 마이닝을 해서 동기화를 시켜줄 필요가 있다.\n",
    "queryBalance() ---> 322\n",
    "\n",
    "\n",
    " bank.methods.getBalance().call().then(console.log);              잔고 0\n",
    " 0\n",
    " \n",
    " bank.methods.deposit(100).send({from:\"0x4D2fF...\", value:100});    입금 100\n",
    " \n",
    " //miner.start(1);admin.sleepBlocks(1);miner.stop();                마이닝\n",
    " \n",
    " bank.methods.getBalance().call().then(console.log);              입금금액 조회 100. 앞 입금거래를 마이닝하고 금액 증가.\n",
    " 100                                                                \n",
    " \n",
    " bank.methods.deposit(100).send({from:\"0x4D2fF...\", value:111});    입금 'value'와 '인자'가 서로 다르면 입금 실패\n",
    " \n",
    " //miner.start(1);admin.sleepBlocks(1);miner.stop();                마이닝\n",
    " undefined\n",
    " \n",
    " bank.methods.getBalance().call().then(console.log);              실패하였으므로 잔고는 계속 100\n",
    " 100\n",
    " \n",
    " bank.methods.deposit(111).send({from:\"0x4D2fF...\", value:111});    입금 111\n",
    " \n",
    " //miner.start(1);admin.sleepBlocks(1);miner.stop();                마이닝\n",
    " \n",
    " bank.methods.getBalance().call().then(console.log);              입금 100+111 = 211\n",
    " 211\n",
    " \n",
    " bank.methods.deposit(111).send({from:\"0x4D2fF...\", value:111});    (10초 지나서) 입금 111, 마이닝하면 금액 증가함\n",
    " \n",
    " //miner.start(1);admin.sleepBlocks(1);miner.stop();\n",
    " \n",
    " bank.methods.getBalance().call().then(console.log);              입금 100+111+111 = 322\n",
    " 322\n",
    " \n",
    " bank.methods.deposit(111).send({from:\"0x4D2fF...\", value:111});    입금 111, 마이닝하면 금액 증가함\n",
    " \n",
    " bank.methods.deposit(111).send({from:\"0x4D2fF...\", value:111});    입금 111, 10초 이내이므로 마이닝해도 금액 증가하지 않음\n",
    " //miner.start(1);admin.sleepBlocks(1);miner.stop();\n",
    " \n",
    " bank.methods.getBalance().call().then(console.log);              여러번 입금해도 10초 이내 거래는 실패하고 잔고가 늘지 않음\n",
    " 433"
   ]
  },
  {
   "cell_type": "code",
   "execution_count": null,
   "id": "73472ed1",
   "metadata": {},
   "outputs": [],
   "source": []
  }
 ],
 "metadata": {
  "kernelspec": {
   "display_name": "Python 3 (ipykernel)",
   "language": "python",
   "name": "python3"
  },
  "language_info": {
   "codemirror_mode": {
    "name": "ipython",
    "version": 3
   },
   "file_extension": ".py",
   "mimetype": "text/x-python",
   "name": "python",
   "nbconvert_exporter": "python",
   "pygments_lexer": "ipython3",
   "version": "3.7.0"
  }
 },
 "nbformat": 4,
 "nbformat_minor": 5
}
