{
 "cells": [
  {
   "cell_type": "markdown",
   "id": "d697743e",
   "metadata": {},
   "source": [
    "# 1-1 ganache를 백그라운드로 띄우고, node에서 연결하여, coinbase주소를 출력하세요."
   ]
  },
  {
   "cell_type": "code",
   "execution_count": 1,
   "id": "e465de74",
   "metadata": {},
   "outputs": [
    {
     "name": "stdout",
     "output_type": "stream",
     "text": [
      "Overwriting _ganacheNow.bat\n"
     ]
    }
   ],
   "source": [
    "%%writefile _ganacheNow.bat\n",
    "node_modules\\.bin\\ganache-cli --unlock 0 --host \"localhost\" --port \"8345\""
   ]
  },
  {
   "cell_type": "code",
   "execution_count": 2,
   "id": "3b9acf65",
   "metadata": {},
   "outputs": [
    {
     "name": "stdout",
     "output_type": "stream",
     "text": [
      "node_modules\\.bin\\ganache-cli --unlock 0 --host \"localhost\" --port \"8345\"\n"
     ]
    }
   ],
   "source": [
    "!type _ganacheNow.bat"
   ]
  },
  {
   "cell_type": "code",
   "execution_count": 14,
   "id": "da19fd02",
   "metadata": {
    "scrolled": true
   },
   "outputs": [
    {
     "name": "stdout",
     "output_type": "stream",
     "text": [
      "Overwriting C:\\Users\\swjdg\\Code\\201810777\\src\\web3test.js\n"
     ]
    }
   ],
   "source": [
    "%%writefile C:\\Users\\swjdg\\Code\\201810777\\src\\web3test.js\n",
    "var Web3 = require('web3');\n",
    "var web3 = new Web3(new Web3.providers.HttpProvider('http://localhost:8345'))\n",
    "web3.eth.getCoinbase().then(console.log);"
   ]
  },
  {
   "cell_type": "markdown",
   "id": "6c32c14a",
   "metadata": {},
   "source": [
    "### 실행이 되지 않아 커멘드창에서 실행해보니 Promise pending 상태가 계속 됩니다"
   ]
  },
  {
   "cell_type": "code",
   "execution_count": 16,
   "id": "98f648c1",
   "metadata": {},
   "outputs": [
    {
     "name": "stdout",
     "output_type": "stream",
     "text": [
      "Overwriting C:\\Users\\swjdg\\Code\\201810777\\src/web3accounts.js\n"
     ]
    }
   ],
   "source": [
    "%%writefile C:\\Users\\swjdg\\Code\\201810777\\src/web3accounts.js\n",
    "var Web3 = require('web3');\n",
    "var web3 = new Web3('http://localhost:8345');\n",
    "web3.eth.getAccounts(function(err,res) { console.log(\"(1) accounts: \" + res); } );\n",
    "my=[]\n",
    "web3.eth.getAccounts(function(err, res) { for (x in res) { my.push(res[x]) } } );\n",
    "console.log(\"(2) accounts from array: \" + my[0]);"
   ]
  },
  {
   "cell_type": "code",
   "execution_count": 24,
   "id": "a54d4bab",
   "metadata": {
    "scrolled": true
   },
   "outputs": [
    {
     "name": "stdout",
     "output_type": "stream",
     "text": [
      "(2) accounts from array: undefined\n",
      "(1) accounts: 0x2578eDfA31C282E2C8aE81a7e26387e0118C99F1,0x32B58a790a4B72D98C458F2cBb02A78f5d9Bc465,0xCc1d33fc4c6ba89054BF61F6975C2AEd45E1A6b3,0xB30174dEdF3C40b7763A83F7f397659A03857623,0x79f59cf2a96D838e92BD95D32e39E44B606671c3,0xffE6Fdb3E4F1d3a8210c94741715473d9ef5a7Aa,0x1679d733bE2e1965D1812f3D5DCB39c7449a230E,0x5be90A1890e14491c6287989ca1209f456b4dBD7,0x96CC200C5e87E49339c7b6689B52b9c4E4e1E9c1,0x1757F1dA6f0438bf862474234460E5Ccd368ce9d\n"
     ]
    }
   ],
   "source": [
    "!node C:\\Users\\swjdg\\Code\\201810777\\src/web3accounts.js"
   ]
  },
  {
   "cell_type": "code",
   "execution_count": 42,
   "id": "9206b99a",
   "metadata": {
    "scrolled": true
   },
   "outputs": [
    {
     "name": "stdout",
     "output_type": "stream",
     "text": [
      "Overwriting C:\\Users\\swjdg\\Code\\201810777\\src/web3account0.js\n"
     ]
    }
   ],
   "source": [
    "%%writefile C:\\Users\\swjdg\\Code\\201810777\\src/web3account0.js\n",
    "var Web3 = require('web3');\n",
    "var web3 = new Web3('http://localhost:8345');\n",
    "var account0;\n",
    "async function getAccount0() {\n",
    "    accounts = await web3.eth.getAccounts();\n",
    "    account0=accounts[0];\n",
    "    console.log(\"local account0: \" + account0);\n",
    "}\n",
    "getAccount0()\n",
    "console.log(\"global account0: \" + account0);"
   ]
  },
  {
   "cell_type": "code",
   "execution_count": 44,
   "id": "29837ed2",
   "metadata": {
    "scrolled": true
   },
   "outputs": [
    {
     "name": "stdout",
     "output_type": "stream",
     "text": [
      "global account0: undefined\n",
      "local account0: 0xE00670d693eE76D46659f3C26F2Ee686943129b2\n"
     ]
    }
   ],
   "source": [
    "!node C:\\Users\\swjdg\\Code\\201810777\\src/web3account0.js"
   ]
  },
  {
   "cell_type": "code",
   "execution_count": 45,
   "id": "1e62e37e",
   "metadata": {},
   "outputs": [
    {
     "name": "stdout",
     "output_type": "stream",
     "text": [
      "Overwriting C:\\Users\\swjdg\\Code\\201810777\\src/web3test.js\n"
     ]
    }
   ],
   "source": [
    "%%writefile C:\\Users\\swjdg\\Code\\201810777\\src/web3test.js\n",
    "var Web3 = require('web3');\n",
    "var web3 = new Web3(new Web3.providers.HttpProvider(\"http://localhost:8345\"));\n",
    "var my=web3.eth.getAccounts().then(it => { console.log(it[0]); });\n",
    "my=[]"
   ]
  },
  {
   "cell_type": "code",
   "execution_count": 46,
   "id": "8c1ca5a4",
   "metadata": {},
   "outputs": [
    {
     "name": "stdout",
     "output_type": "stream",
     "text": [
      "0xE00670d693eE76D46659f3C26F2Ee686943129b2\n"
     ]
    }
   ],
   "source": [
    "!node C:\\Users\\swjdg\\Code\\201810777\\src/web3test.js"
   ]
  },
  {
   "cell_type": "markdown",
   "id": "3c34d545",
   "metadata": {},
   "source": [
    "# 1-2 문제1-1을 geth를 띄우고 실행해보세요. geth에서의 coinbase를 출력하세요."
   ]
  },
  {
   "cell_type": "code",
   "execution_count": 6,
   "id": "a0d52414",
   "metadata": {},
   "outputs": [
    {
     "name": "stdout",
     "output_type": "stream",
     "text": [
      "[\"0xc1c83babf6068f8ffcfebef8029b09f198bd8684\", \"0x23dd7003cc7ea4e801bdce8fd472d6f37a902324\", \"0xbc499689fe23bd68d0f5cc461477e945ec4fa8ab\", \"0x585d09bc5fb5648c6f6f9c2290aa83b8342bdd89\"]\n"
     ]
    }
   ],
   "source": [
    "!geth --exec \"eth.accounts\" attach http://localhost:8445"
   ]
  },
  {
   "cell_type": "code",
   "execution_count": 7,
   "id": "c3663f5e",
   "metadata": {},
   "outputs": [
    {
     "name": "stdout",
     "output_type": "stream",
     "text": [
      "\"0xc1c83babf6068f8ffcfebef8029b09f198bd8684\"\n"
     ]
    }
   ],
   "source": [
    "!geth --exec \"eth.coinbase\" attach http://localhost:8445"
   ]
  },
  {
   "cell_type": "markdown",
   "id": "ea8622ed",
   "metadata": {},
   "source": [
    "# 1-3: ganache의 coinbase에서 geth의 coinbase로 1 ether를 송금해 보세요. 송금 성공이면 잔고변화를 출력하고, 실패이면 그 이유를 간단히 설명하세요."
   ]
  },
  {
   "cell_type": "code",
   "execution_count": 63,
   "id": "0408e5e3",
   "metadata": {},
   "outputs": [
    {
     "name": "stdout",
     "output_type": "stream",
     "text": [
      "295000020999999980000\n"
     ]
    }
   ],
   "source": [
    "!geth --exec \"eth.getBalance(eth.coinbase)\" attach http://localhost:8445"
   ]
  },
  {
   "cell_type": "code",
   "execution_count": 64,
   "id": "f4c327dd",
   "metadata": {},
   "outputs": [
    {
     "name": "stdout",
     "output_type": "stream",
     "text": [
      "100000000000000000000\n"
     ]
    }
   ],
   "source": [
    "!geth --exec \"eth.getBalance(eth.accounts[1])\" attach http://localhost:8345"
   ]
  },
  {
   "cell_type": "markdown",
   "id": "65af3b37",
   "metadata": {},
   "source": [
    "### 각각의 잔고 출력"
   ]
  },
  {
   "cell_type": "code",
   "execution_count": 70,
   "id": "45dddcde",
   "metadata": {},
   "outputs": [
    {
     "name": "stdout",
     "output_type": "stream",
     "text": [
      "\"0xc1c83babf6068f8ffcfebef8029b09f198bd8684\"\n"
     ]
    }
   ],
   "source": [
    "!geth --exec \"eth.coinbase\" attach http://localhost:8445"
   ]
  },
  {
   "cell_type": "code",
   "execution_count": 71,
   "id": "cc5a935b",
   "metadata": {},
   "outputs": [
    {
     "name": "stdout",
     "output_type": "stream",
     "text": [
      "\"0xe00670d693ee76d46659f3c26f2ee686943129b2\"\n"
     ]
    }
   ],
   "source": [
    "!geth --exec \"eth.coinbase\" attach http://localhost:8345"
   ]
  },
  {
   "cell_type": "markdown",
   "id": "88c45b15",
   "metadata": {},
   "source": [
    "### 각각의 coinbase의 주소 출력"
   ]
  },
  {
   "cell_type": "code",
   "execution_count": 78,
   "id": "a80c1d97",
   "metadata": {},
   "outputs": [
    {
     "name": "stdout",
     "output_type": "stream",
     "text": [
      "Overwriting C:\\Users\\swjdg\\Code\\201810777\\src/trans_ganache_to_geth.js\n"
     ]
    }
   ],
   "source": [
    "%%writefile C:\\Users\\swjdg\\Code\\201810777\\src/trans_ganache_to_geth.js\n",
    "eth.sendTransaction({from:\"0xe00670d693ee76d46659f3c26f2ee686943129b2\", to:eth.coinbase, value:web3.toWei(1.001,\"ether\")})"
   ]
  },
  {
   "cell_type": "code",
   "execution_count": 75,
   "id": "1b481ad6",
   "metadata": {
    "scrolled": true
   },
   "outputs": [
    {
     "name": "stdout",
     "output_type": "stream",
     "text": [
      "GoError: Could not read file C:UsersswjdgCode혖810777src\\trans_ganache_to_geth.js: open C:UsersswjdgCode혖810777src\\trans_ganache_to_geth.js: The system cannot find the path specified.\n",
      "\tat github.com/ethereum/go-ethereum/internal/jsre.MakeCallback.func1 (native)\n",
      "\tat <eval>:1:12(1)\n",
      "\n"
     ]
    }
   ],
   "source": [
    "!geth --exec \"loadScript('C:\\Users\\swjdg\\Code\\201810777\\src/trans_ganache_to_geth.js')\" attach http://localhost:8345"
   ]
  },
  {
   "attachments": {
    "image.png": {
     "image/png": "[encoded data removed]"
    }
   },
   "cell_type": "markdown",
   "id": "5072bfc8",
   "metadata": {},
   "source": [
    "##### 주피터 노트북에서는 오류가 생기고 커멘드창에서는 실행이 되어 캡쳐본 첨부했습니다.\n",
    "\n",
    "![image.png](attachment:image.png)"
   ]
  },
  {
   "attachments": {
    "image.png": {
     "image/png": "[encoded data removed]"
    }
   },
   "cell_type": "markdown",
   "id": "b9ea22a1",
   "metadata": {},
   "source": [
    "#### 송금 후 각각의 잔고 출력 결과입니다.\n",
    "\n",
    "![image.png](attachment:image.png)"
   ]
  },
  {
   "cell_type": "markdown",
   "id": "6cd724cd",
   "metadata": {},
   "source": [
    "### ganache에서는 100000000000000000000에서 99999160000000000000 만큼으로 차감이 되었지만 \n",
    "\n",
    "### geth에서는 295000020999999980000에서 295000020999999980000 인 같은 값으로 출력이되었습니다."
   ]
  },
  {
   "cell_type": "markdown",
   "id": "9d22ce1f",
   "metadata": {},
   "source": [
    "### 즉, ganache에서는 송금을 진행하였으나 geth에서는 수신을 하지 못한것 같습니다."
   ]
  },
  {
   "cell_type": "markdown",
   "id": "249cd798",
   "metadata": {},
   "source": [
    "# 2-1: ganache에 연결하고, 현재 coinbase의 잔고를 ether로 출력하세요."
   ]
  },
  {
   "cell_type": "code",
   "execution_count": 20,
   "id": "bd18e3ac",
   "metadata": {},
   "outputs": [
    {
     "name": "stdout",
     "output_type": "stream",
     "text": [
      "node_modules\\.bin\\ganache-cli --unlock 0 --host \"localhost\" --port \"8345\"\n"
     ]
    }
   ],
   "source": [
    "!type _ganacheNow.bat"
   ]
  },
  {
   "cell_type": "code",
   "execution_count": 61,
   "id": "3ef14293",
   "metadata": {
    "scrolled": true
   },
   "outputs": [
    {
     "name": "stdout",
     "output_type": "stream",
     "text": [
      "Overwriting C:/Users/swjdg/Code/201810777/src/question.js\n"
     ]
    }
   ],
   "source": [
    "%%writefile C:/Users/swjdg/Code/201810777/src/question.js\n",
    "console.log(web3.fromWei(eth.getBalance(eth.coinbase),\"ether\"))\n",
    "var a=web3.fromWei(eth.getBalance(eth.coinbase),\"ether\")"
   ]
  },
  {
   "cell_type": "code",
   "execution_count": 62,
   "id": "1ec434b1",
   "metadata": {
    "scrolled": false
   },
   "outputs": [
    {
     "name": "stdout",
     "output_type": "stream",
     "text": [
      "GoError: Could not read file  C:\\Users\\swjdg\\Code\\201810777\\src\\question.js: open  C:\\Users\\swjdg\\Code\\201810777\\src\\question.js: The filename, directory name, or volume label syntax is incorrect.\n",
      "\tat github.com/ethereum/go-ethereum/internal/jsre.MakeCallback.func1 (native)\n",
      "\tat <eval>:1:12(1)\n",
      "\n"
     ]
    }
   ],
   "source": [
    "!geth --exec \"loadScript(' C:/Users/swjdg/Code/201810777/src/question.js')\" attach http://localhost:8345"
   ]
  },
  {
   "attachments": {
    "image.png": {
     "image/png": "[encoded data removed]"
    }
   },
   "cell_type": "markdown",
   "id": "aa4ee4aa",
   "metadata": {},
   "source": [
    "주피터 노트북에서는 오류가 생기고 커멘드창에서는 실행이 되어 캡쳐본 첨부했습니다.\n",
    "\n",
    "![image.png](attachment:image.png)"
   ]
  },
  {
   "cell_type": "markdown",
   "id": "d4fa42a0",
   "metadata": {},
   "source": [
    "# 2-2: 현재 거래소 환전가격을 구해서 한화로 계산하여 얼마인지 출력하세요. 환전가격은 거래소 가격을 읽어서 프로그램에 코딩한다."
   ]
  },
  {
   "cell_type": "code",
   "execution_count": 57,
   "id": "9d22ac8e",
   "metadata": {},
   "outputs": [
    {
     "name": "stdout",
     "output_type": "stream",
     "text": [
      "Overwriting C:\\Users\\swjdg\\Code\\201810777\\src/question2.js\n"
     ]
    }
   ],
   "source": [
    "%%writefile C:\\Users\\swjdg\\Code\\201810777\\src/question2.js\n",
    "console.log(web3.fromWei(eth.getBalance(eth.coinbase),\"ether\"))\n",
    "var a=web3.fromWei(eth.getBalance(eth.coinbase),\"ether\")\n",
    "var won=4041147.52*a\n",
    "console.log(won)"
   ]
  },
  {
   "cell_type": "code",
   "execution_count": 59,
   "id": "a0ff327c",
   "metadata": {
    "scrolled": false
   },
   "outputs": [
    {
     "name": "stdout",
     "output_type": "stream",
     "text": [
      "100\n",
      "404114752\n",
      "null\n"
     ]
    }
   ],
   "source": [
    "!geth --exec \"loadScript('C:/Users/swjdg/Code/201810777/src/question2.js')\" attach http://localhost:8345"
   ]
  },
  {
   "attachments": {
    "image.png": {
     "image/png": "[encoded data removed]"
    }
   },
   "cell_type": "markdown",
   "id": "d6f90c39",
   "metadata": {},
   "source": [
    "주피터 노트북에서는 오류가 생기고 커멘드창에서는 실행이 되어 캡쳐본 첨부했습니다.\n",
    "\n",
    "![image.png](attachment:image.png)"
   ]
  },
  {
   "cell_type": "code",
   "execution_count": null,
   "id": "e6dc4654",
   "metadata": {},
   "outputs": [],
   "source": []
  }
 ],
 "metadata": {
  "kernelspec": {
   "display_name": "Python 3 (ipykernel)",
   "language": "python",
   "name": "python3"
  },
  "language_info": {
   "codemirror_mode": {
    "name": "ipython",
    "version": 3
   },
   "file_extension": ".py",
   "mimetype": "text/x-python",
   "name": "python",
   "nbconvert_exporter": "python",
   "pygments_lexer": "ipython3",
   "version": "3.7.0"
  }
 },
 "nbformat": 4,
 "nbformat_minor": 5
}
