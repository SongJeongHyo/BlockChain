{
 "cells": [
  {
   "cell_type": "markdown",
   "id": "5c71d957",
   "metadata": {},
   "source": [
    "## 1. 컨트랙 개발"
   ]
  },
  {
   "cell_type": "code",
   "execution_count": 96,
   "id": "d2c98d14",
   "metadata": {
    "scrolled": false
   },
   "outputs": [
    {
     "name": "stdout",
     "output_type": "stream",
     "text": [
      "Overwriting src/bank.sol\n"
     ]
    }
   ],
   "source": [
    "%%writefile src/bank.sol\n",
    "//SPDX-License-Identifier: GPL-3.0-or-later\n",
    "pragma solidity ^0.6.4;\n",
    "\n",
    "contract bank {\n",
    "    address owner;\n",
    "    uint balance;\n",
    "    \n",
    "    event PrintLog(address from, uint amount);\n",
    "    //event PrintLog(address from, address to, uint amount );\n",
    "    \n",
    "    constructor() public {\n",
    "        owner = msg.sender;\n",
    "        balance = 0;\n",
    "    }\n",
    "\n",
    "    receive() external payable {\n",
    "        uint amount = msg.value;\n",
    "        balance += amount;\n",
    "        emit PrintLog(msg.sender,msg.value);\n",
    "    }\n",
    "\n",
    "    function forwardTo(address payable _receiver) public payable {\n",
    "        _receiver.transfer(msg.value);\n",
    "        balance -= msg.value;\n",
    "    }\n",
    "\n",
    "    function getBalance() public view returns(uint, uint) {\n",
    "        return (balance, address(this).balance);\n",
    "    }\n",
    "\n",
    "    function deposit(uint amount) public payable {\n",
    "        require(msg.value == amount);\n",
    "        balance += amount;\n",
    "    }\n",
    "\n",
    "    function withdrawAll() public {\n",
    "        balance -= address(this).balance;\n",
    "        msg.sender.transfer(address(this).balance); \n",
    "    }\n",
    "}"
   ]
  },
  {
   "cell_type": "markdown",
   "id": "c7099dea",
   "metadata": {},
   "source": [
    "## 2. 컴파일"
   ]
  },
  {
   "cell_type": "code",
   "execution_count": 97,
   "id": "662f3665",
   "metadata": {
    "scrolled": true
   },
   "outputs": [
    {
     "name": "stdout",
     "output_type": "stream",
     "text": [
      "\n",
      "======= src/Bank.sol:bank =======\n",
      "Gas estimation:\n",
      "construction:\n",
      "   26063 + 134800 = 160863\n",
      "external:\n",
      "   deposit(uint256):\t21103\n",
      "   forwardTo(address):\tinfinite\n",
      "   getBalance():\t1027\n",
      "   withdrawAll():\tinfinite\n",
      "Binary:\n",
      "608060405234801561001057600080fd5b50336000806101000a81548173ffffffffffffffffffffffffffffffffffffffff021916908373ffffffffffffffffffffffffffffffffffffffff16021790555060006001819055506102a2806100686000396000f3fe6080604052600436106100435760003560e01c806312065fe0146100d057806327d8ad8814610102578063853828b614610146578063b6b55f251461015d576100cb565b366100cb576000349050806001600082825401925050819055507fac247564f70be8d5e06a6068acf596e7bbca33994b256697b38d49095d4f38053334604051808373ffffffffffffffffffffffffffffffffffffffff1673ffffffffffffffffffffffffffffffffffffffff1681526020018281526020019250505060405180910390a150005b600080fd5b3480156100dc57600080fd5b506100e561018b565b604051808381526020018281526020019250505060405180910390f35b6101446004803603602081101561011857600080fd5b81019080803573ffffffffffffffffffffffffffffffffffffffff16906020019092919050505061019a565b005b34801561015257600080fd5b5061015b6101f4565b005b6101896004803603602081101561017357600080fd5b810190808035906020019092919050505061024d565b005b60008060015447915091509091565b8073ffffffffffffffffffffffffffffffffffffffff166108fc349081150290604051600060405180830381858888f193505050501580156101e0573d6000803e3d6000fd5b503460016000828254039250508190555050565b476001600082825403925050819055503373ffffffffffffffffffffffffffffffffffffffff166108fc479081150290604051600060405180830381858888f1935050505015801561024a573d6000803e3d6000fd5b50565b80341461025957600080fd5b806001600082825401925050819055505056fea26469706673582212208e78d7d1f0767844dfcbe00949b8b441840eeec5551aa540eb8c3420fdcbb7ff64736f6c63430006040033\n",
      "Contract JSON ABI\n",
      "[{\"inputs\":[],\"stateMutability\":\"nonpayable\",\"type\":\"constructor\"},{\"anonymous\":false,\"inputs\":[{\"indexed\":false,\"internalType\":\"address\",\"name\":\"from\",\"type\":\"address\"},{\"indexed\":false,\"internalType\":\"uint256\",\"name\":\"amount\",\"type\":\"uint256\"}],\"name\":\"PrintLog\",\"type\":\"event\"},{\"inputs\":[{\"internalType\":\"uint256\",\"name\":\"amount\",\"type\":\"uint256\"}],\"name\":\"deposit\",\"outputs\":[],\"stateMutability\":\"payable\",\"type\":\"function\"},{\"inputs\":[{\"internalType\":\"address payable\",\"name\":\"_receiver\",\"type\":\"address\"}],\"name\":\"forwardTo\",\"outputs\":[],\"stateMutability\":\"payable\",\"type\":\"function\"},{\"inputs\":[],\"name\":\"getBalance\",\"outputs\":[{\"internalType\":\"uint256\",\"name\":\"\",\"type\":\"uint256\"},{\"internalType\":\"uint256\",\"name\":\"\",\"type\":\"uint256\"}],\"stateMutability\":\"view\",\"type\":\"function\"},{\"inputs\":[],\"name\":\"withdrawAll\",\"outputs\":[],\"stateMutability\":\"nonpayable\",\"type\":\"function\"},{\"stateMutability\":\"payable\",\"type\":\"receive\"}]\n"
     ]
    }
   ],
   "source": [
    "!solc --gas --bin --abi src/Bank.sol"
   ]
  },
  {
   "cell_type": "code",
   "execution_count": 98,
   "id": "342f4fc8",
   "metadata": {},
   "outputs": [],
   "source": [
    "!solc --optimize --combined-json abi,bin src/Bank.sol > src/Bank.json"
   ]
  },
  {
   "cell_type": "markdown",
   "id": "1efa2327",
   "metadata": {},
   "source": [
    "## 3. 배포"
   ]
  },
  {
   "cell_type": "code",
   "execution_count": 99,
   "id": "a0085a51",
   "metadata": {
    "scrolled": true
   },
   "outputs": [
    {
     "name": "stdout",
     "output_type": "stream",
     "text": [
      "Overwriting src/BankDeploy1.js\n"
     ]
    }
   ],
   "source": [
    "%%writefile src/BankDeploy1.js\n",
    "var Web3 = require('web3');\n",
    "var _abiBinJson = require('./Bank.json');      //importing a javascript file\n",
    "\n",
    "var web3 = new Web3(new Web3.providers.HttpProvider(\"http://localhost:8335\"));\n",
    "\n",
    "contractName=Object.keys(_abiBinJson.contracts); // reading ['src/BankV3.sol:BankV3']\n",
    "console.log(\"- contract name: \", contractName);\n",
    "_abi=_abiBinJson.contracts[contractName].abi;\n",
    "//_abiArray=JSON.parse(JSON.stringify(_abi));\n",
    "_abiArray=JSON.parse(_abi);      //JSON parsing needed!! //SyntaxError: Unexpected token o in JSON at position 1\n",
    "_bin=_abiBinJson.contracts[contractName].bin;\n",
    "\n",
    "//console.log(\"- ABI: \" + _abiArray);\n",
    "//console.log(\"- Bytecode: \" + _bin);\n",
    "\n",
    "async function deploy() {\n",
    "    const accounts = await web3.eth.getAccounts();\n",
    "    console.log(\"Deploying the contract from \" + accounts[0]);\n",
    "    var deployed = await new web3.eth.Contract(_abiArray)\n",
    "        .deploy({data: \"0x\"+_bin})\n",
    "        .send({from: accounts[0], gas: 259210}, function(err, transactionHash) {\n",
    "                if(!err) console.log(\"hash: \" + transactionHash); \n",
    "        })\n",
    "        //.then(function(newContractInstance){\n",
    "        //    console.log(newContractInstance)\n",
    "        //});\n",
    "    console.log(\"---> The contract deployed to: \" + deployed.options.address)\n",
    "}\n",
    "deploy()"
   ]
  },
  {
   "cell_type": "code",
   "execution_count": 100,
   "id": "35beac53",
   "metadata": {},
   "outputs": [
    {
     "name": "stdout",
     "output_type": "stream",
     "text": [
      "- contract name:  [ 'src/Bank.sol:bank' ]\n",
      "Deploying the contract from 0x309DD201450E258AE229E3C47D9c8C91a70F0123\n",
      "hash: 0xe9c6bb45d82ccdfd0b682b4121b5a3787e9a3c4eff603edc1ff0568c83bc82b2\n",
      "---> The contract deployed to: 0x32D192b0b16505aB0188748cf427a4d17Fbc15B6\n"
     ]
    }
   ],
   "source": [
    "!node src/BankDeploy1.js"
   ]
  },
  {
   "cell_type": "markdown",
   "id": "e483945a",
   "metadata": {},
   "source": [
    "## 4. 사용"
   ]
  },
  {
   "cell_type": "code",
   "execution_count": 101,
   "id": "a8350d5b",
   "metadata": {},
   "outputs": [
    {
     "name": "stdout",
     "output_type": "stream",
     "text": [
      "Overwriting src/BankUse.js\n"
     ]
    }
   ],
   "source": [
    "%%writefile src/BankUse.js\n",
    "var Web3=require('web3');\n",
    "var _abiBinJson = require('./Bank.json');      //importing a javascript file\n",
    "\n",
    "var web3 = new Web3(new Web3.providers.HttpProvider(\"http://localhost:8335\"));\n",
    "contractName=Object.keys(_abiBinJson.contracts);\n",
    "_abi=_abiBinJson.contracts[contractName].abi; //use just as read from file\n",
    "//_abiArray=JSON.parse(JSON.stringify(_abi));\n",
    "_abiArray=JSON.parse(_abi);      //JSON parsing needed!!\n",
    "\n",
    "async function doIt() {\n",
    "\n",
    "    var myBank = new web3.eth.Contract(_abiArray,\"0x32D192b0b16505aB0188748cf427a4d17Fbc15B6\");\n",
    "    \n",
    "    var event = myBank.events.PrintLog({fromBlock: 0}, function (error, result) {\n",
    "        if (!error) {\n",
    "            log = JSON.stringify(result.returnValues);\n",
    "            console.log(\"Event fired: \" + log);\n",
    "        }\n",
    "    });\n",
    "    const accounts = await web3.eth.getAccounts();\n",
    "    \n",
    "    await myBank.methods.deposit(11111).send({from:accounts[0] , gas:255766, value: 11111});\n",
    "    await myBank.methods.deposit(222).send({from:accounts[0] , gas:255766, value: 222});;\n",
    "    \n",
    "    // - 입금 11111 wei, 222 wei를 하고 컨트랙잔고 11333 wei 출력\n",
    "    const balanceJson = await myBank.methods.getBalance().call();\n",
    "    balance = JSON.stringify(balanceJson);\n",
    "    console.log(\"Balance of contract: \" + balance);\n",
    "    \n",
    "    // - 자신의 2번째 계정으로 계좌이체 333 wei하고 컨트랙잔고 11000 wei 출력, 자신의 2번째 계정 잔고 증가분 (+333 wei) 출력\n",
    "    await myBank.methods.forwardTo(accounts[1]).send({from: accounts[0] , gas:255766, value: 333});\n",
    "    \n",
    "    const balanceJson2 = await myBank.methods.getBalance().call();\n",
    "    const balance2 = JSON.stringify(balanceJson2);\n",
    "    console.log(\"Balance of contract: \" + balance2);\n",
    "    \n",
    "    balance = await web3.eth.getBalance(accounts[0]);\n",
    "    console.log(\"Balance of account[0]: \" + balance);\n",
    "    \n",
    "    balance = await web3.eth.getBalance(accounts[1]);\n",
    "    console.log(\"Balance of account[1]: \" + balance);\n",
    "   \n",
    "    // - 전액 인출하고 11000 wei, 자신의 잔고 증가분 출력 (+11000 wei)\n",
    "    balancebefore = await web3.eth.getBalance(accounts[0]);\n",
    "    console.log(\"Balance before withdrawall: \" + balancebefore);\n",
    "    \n",
    "    await myBank.methods.withdrawAll().send({from:accounts[0]});\n",
    "  \n",
    "    balanceafter = await web3.eth.getBalance(accounts[0]);\n",
    "    \n",
    "    subtract = balanceafter-balancebefore;\n",
    "    console.log(\"Balance after withdrawal: \" + balanceafter);\n",
    "    console.log(\"BalanceAfter - BalanceBefore: \"+ subtract);\n",
    "    \n",
    "    //- 컨트랙으로 111 송금하고, deposit()이 아니라 fallback으로 입금하세요. 컨트랙잔고 111 wei 출력.\n",
    "    await web3.eth.sendTransaction({from:accounts[0], to:\"0x309DD201450E258AE229E3C47D9c8C91a70F0123\", gas: 230000, value: 111});\n",
    "    const balanceJson3 = await myBank.methods.getBalance().call();\n",
    "    const balance3 = JSON.stringify(balanceJson3);\n",
    "    console.log(\"Balance: \" + balance3);\n",
    "    process.exit(1); //force exit to disconnect websocket\n",
    "}\n",
    "\n",
    "doIt()"
   ]
  },
  {
   "cell_type": "code",
   "execution_count": 102,
   "id": "36cab916",
   "metadata": {},
   "outputs": [
    {
     "name": "stdout",
     "output_type": "stream",
     "text": [
      "Balance of contract: {\"0\":\"11333\",\"1\":\"11333\"}\n",
      "Balance of contract: {\"0\":\"11000\",\"1\":\"11333\"}\n",
      "Balance of account[0]: 999999040220548731226\n",
      "Balance of account[1]: 1000000000000000000333\n",
      "Balance before withdrawall: 999999040220548731226\n",
      "Balance after withdrawal: 999998940325693503599\n",
      "BalanceAfter - BalanceBefore: -99894855204864\n",
      "Balance: {\"0\":\"115792089237316195423570985008687907853269984665640564039457584007913129639603\",\"1\":\"0\"}\n"
     ]
    }
   ],
   "source": [
    "!node src/BankUse.js"
   ]
  },
  {
   "cell_type": "code",
   "execution_count": null,
   "id": "89fbdb90",
   "metadata": {},
   "outputs": [],
   "source": []
  }
 ],
 "metadata": {
  "kernelspec": {
   "display_name": "Python 3 (ipykernel)",
   "language": "python",
   "name": "python3"
  },
  "language_info": {
   "codemirror_mode": {
    "name": "ipython",
    "version": 3
   },
   "file_extension": ".py",
   "mimetype": "text/x-python",
   "name": "python",
   "nbconvert_exporter": "python",
   "pygments_lexer": "ipython3",
   "version": "3.7.0"
  }
 },
 "nbformat": 4,
 "nbformat_minor": 5
}
